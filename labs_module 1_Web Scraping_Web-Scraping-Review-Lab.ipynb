{
 "cells": [
  {
   "cell_type": "markdown",
   "metadata": {},
   "source": [
    "<center>\n",
    "    <img src=\"https://cf-courses-data.s3.us.cloud-object-storage.appdomain.cloud/IBMDeveloperSkillsNetwork-PY0101EN-SkillsNetwork/IDSNlogo.png\" width=\"300\" alt=\"cognitiveclass.ai logo\">\n",
    "</center>\n"
   ]
  },
  {
   "cell_type": "markdown",
   "metadata": {},
   "source": [
    "# **Web Scraping Lab**\n"
   ]
  },
  {
   "cell_type": "markdown",
   "metadata": {},
   "source": [
    "Estimated time needed: **30** minutes\n"
   ]
  },
  {
   "cell_type": "markdown",
   "metadata": {},
   "source": [
    "## Objectives\n"
   ]
  },
  {
   "cell_type": "markdown",
   "metadata": {},
   "source": [
    "After completing this lab you will be:\n",
    "\n",
    "*   Familiar with the basics of the `BeautifulSoup` Python library\n",
    "*   Be able to scrape webpages for data and filter the data\n"
   ]
  },
  {
   "cell_type": "markdown",
   "metadata": {},
   "source": [
    "<h2>Table of Contents</h2>\n",
    "<div class=\"alert alert-block alert-info\" style=\"margin-top: 20px\">\n",
    "    <ul>\n",
    "        <li>\n",
    "            <a href=\"https://bso/?utm_medium=Exinfluencer&utm_source=Exinfluencer&utm_content=000026UJ&utm_term=10006555&utm_id=NA-SkillsNetwork-Channel-SkillsNetworkCoursesIBMDeveloperSkillsNetworkPY0101ENSkillsNetwork19487395-2021-01-01\">Beautiful Soup Object</a>\n",
    "            <ul>\n",
    "                <li>Tag</li>\n",
    "                <li>Children, Parents, and Siblings</li>\n",
    "                <li>HTML Attributes</li>\n",
    "                <li>Navigable String</li>\n",
    "            </ul>\n",
    "        </li>\n",
    "     </ul>\n",
    "    <ul>\n",
    "        <li>\n",
    "            <a href=\"https://filter/?utm_medium=Exinfluencer&utm_source=Exinfluencer&utm_content=000026UJ&utm_term=10006555&utm_id=NA-SkillsNetwork-Channel-SkillsNetworkCoursesIBMDeveloperSkillsNetworkPY0101ENSkillsNetwork19487395-2021-01-01\">Filter</a>\n",
    "            <ul>\n",
    "                <li>find All</li>\n",
    "                <li>find </li>\n",
    "                <li>HTML Attributes</li>\n",
    "                <li>Navigable String</li>\n",
    "            </ul>\n",
    "        </li>\n",
    "     </ul>\n",
    "     <ul>\n",
    "        <li>\n",
    "            <a href=\"https://dscw/?utm_medium=Exinfluencer&utm_source=Exinfluencer&utm_content=000026UJ&utm_term=10006555&utm_id=NA-SkillsNetwork-Channel-SkillsNetworkCoursesIBMDeveloperSkillsNetworkPY0101ENSkillsNetwork19487395-2021-01-01\">Downloading And Scraping The Contents Of A Web</a>\n",
    "    </p>\n",
    "\n",
    "</div>\n",
    "\n",
    "<hr>\n"
   ]
  },
  {
   "cell_type": "markdown",
   "metadata": {},
   "source": [
    "For this lab, we are going to be using Python and several Python libraries. Some of these libraries might be installed in your lab environment or in SN Labs. Others may need to be installed by you. The cells below will install these libraries when executed.\n"
   ]
  },
  {
   "cell_type": "code",
   "execution_count": 1,
   "metadata": {},
   "outputs": [
    {
     "name": "stdout",
     "output_type": "stream",
     "text": [
      "Collecting html5lib\n",
      "  Downloading html5lib-1.1-py2.py3-none-any.whl (112 kB)\n",
      "\u001b[2K     \u001b[90m━━━━━━━━━━━━━━━━━━━━━━━━━━━━━━━━━━━━━━━\u001b[0m \u001b[32m112.2/112.2 kB\u001b[0m \u001b[31m2.0 MB/s\u001b[0m eta \u001b[36m0:00:00\u001b[0ma \u001b[36m0:00:01\u001b[0m\n",
      "\u001b[?25hRequirement already satisfied: six>=1.9 in /Users/apple/anaconda3/lib/python3.11/site-packages (from html5lib) (1.16.0)\n",
      "Requirement already satisfied: webencodings in /Users/apple/anaconda3/lib/python3.11/site-packages (from html5lib) (0.5.1)\n",
      "Installing collected packages: html5lib\n",
      "Successfully installed html5lib-1.1\n"
     ]
    }
   ],
   "source": [
    "!pip install html5lib"
   ]
  },
  {
   "cell_type": "markdown",
   "metadata": {},
   "source": [
    "**Note:- After running the above code cell, restart the kernel and don't run the above code cell after restarting the kernel.**\n"
   ]
  },
  {
   "cell_type": "code",
   "execution_count": 2,
   "metadata": {},
   "outputs": [
    {
     "name": "stdout",
     "output_type": "stream",
     "text": [
      "Collecting bs4\n",
      "  Downloading bs4-0.0.1.tar.gz (1.1 kB)\n",
      "  Preparing metadata (setup.py) ... \u001b[?25ldone\n",
      "\u001b[?25hRequirement already satisfied: beautifulsoup4 in /Users/apple/anaconda3/lib/python3.11/site-packages (from bs4) (4.12.2)\n",
      "Requirement already satisfied: soupsieve>1.2 in /Users/apple/anaconda3/lib/python3.11/site-packages (from beautifulsoup4->bs4) (2.4)\n",
      "Building wheels for collected packages: bs4\n",
      "  Building wheel for bs4 (setup.py) ... \u001b[?25ldone\n",
      "\u001b[?25h  Created wheel for bs4: filename=bs4-0.0.1-py3-none-any.whl size=1256 sha256=b961406cb34e84fe0fd6bb919f5a5d479f7a421d84a46850236714babee95a7c\n",
      "  Stored in directory: /Users/apple/Library/Caches/pip/wheels/d4/c8/5b/b5be9c20e5e4503d04a6eac8a3cd5c2393505c29f02bea0960\n",
      "Successfully built bs4\n",
      "Installing collected packages: bs4\n",
      "Successfully installed bs4-0.0.1\n"
     ]
    }
   ],
   "source": [
    "!pip install bs4\n",
    "#!pip install requests"
   ]
  },
  {
   "cell_type": "markdown",
   "metadata": {},
   "source": [
    "Import the required modules and functions\n"
   ]
  },
  {
   "cell_type": "code",
   "execution_count": 3,
   "metadata": {},
   "outputs": [],
   "source": [
    "from bs4 import BeautifulSoup # this module helps in web scrapping.\n",
    "import requests  # this module helps us to download a web page"
   ]
  },
  {
   "cell_type": "markdown",
   "metadata": {},
   "source": [
    "<h2 id=\"BSO\">Beautiful Soup Objects</h2>\n"
   ]
  },
  {
   "cell_type": "markdown",
   "metadata": {},
   "source": [
    "Beautiful Soup is a Python library for pulling data out of HTML and XML files, we will focus on HTML files. This is accomplished by representing the HTML as a set of objects with methods used to parse the HTML.  We can navigate the HTML as a tree, and/or filter out what we are looking for.\n",
    "\n",
    "Consider the following HTML:\n"
   ]
  },
  {
   "cell_type": "code",
   "execution_count": 4,
   "metadata": {},
   "outputs": [
    {
     "data": {
      "text/html": [
       "<!DOCTYPE html>\n",
       "<html>\n",
       "<head>\n",
       "<title>Page Title</title>\n",
       "</head>\n",
       "<body>\n",
       "<h3><b id='boldest'>Lebron James</b></h3>\n",
       "<p> Salary: $ 92,000,000 </p>\n",
       "<h3> Stephen Curry</h3>\n",
       "<p> Salary: $85,000, 000 </p>\n",
       "<h3> Kevin Durant </h3>\n",
       "<p> Salary: $73,200, 000</p>\n",
       "</body>\n",
       "</html>\n"
      ],
      "text/plain": [
       "<IPython.core.display.HTML object>"
      ]
     },
     "metadata": {},
     "output_type": "display_data"
    }
   ],
   "source": [
    "%%html\n",
    "<!DOCTYPE html>\n",
    "<html>\n",
    "<head>\n",
    "<title>Page Title</title>\n",
    "</head>\n",
    "<body>\n",
    "<h3><b id='boldest'>Lebron James</b></h3>\n",
    "<p> Salary: $ 92,000,000 </p>\n",
    "<h3> Stephen Curry</h3>\n",
    "<p> Salary: $85,000, 000 </p>\n",
    "<h3> Kevin Durant </h3>\n",
    "<p> Salary: $73,200, 000</p>\n",
    "</body>\n",
    "</html>"
   ]
  },
  {
   "cell_type": "markdown",
   "metadata": {},
   "source": [
    "We can store it as a string in the variable HTML:\n"
   ]
  },
  {
   "cell_type": "code",
   "execution_count": 5,
   "metadata": {},
   "outputs": [],
   "source": [
    "html=\"<!DOCTYPE html><html><head><title>Page Title</title></head><body><h3><b id='boldest'>Lebron James</b></h3><p> Salary: $ 92,000,000 </p><h3> Stephen Curry</h3><p> Salary: $85,000, 000 </p><h3> Kevin Durant </h3><p> Salary: $73,200, 000</p></body></html>\""
   ]
  },
  {
   "cell_type": "markdown",
   "metadata": {},
   "source": [
    "To parse a document, pass it into the <code>BeautifulSoup</code> constructor. The <code>BeautifulSoup</code> object represents the document as a nested data structure:\n"
   ]
  },
  {
   "cell_type": "code",
   "execution_count": 7,
   "metadata": {},
   "outputs": [],
   "source": [
    "soup = BeautifulSoup(html, 'html5lib')"
   ]
  },
  {
   "cell_type": "markdown",
   "metadata": {},
   "source": [
    "First, the document is converted to Unicode (similar to ASCII) and HTML entities are converted to Unicode characters. Beautiful Soup transforms a complex HTML document into a complex tree of Python objects. The <code>BeautifulSoup</code> object can create other types of objects. In this lab, we will cover <code>BeautifulSoup</code> and <code>Tag</code> objects, that for the purposes of this lab are identical. Finally, we will look at <code>NavigableString</code> objects.\n"
   ]
  },
  {
   "cell_type": "markdown",
   "metadata": {},
   "source": [
    "We can use the method <code>prettify()</code> to display the HTML in the nested structure:\n"
   ]
  },
  {
   "cell_type": "code",
   "execution_count": 8,
   "metadata": {},
   "outputs": [
    {
     "name": "stdout",
     "output_type": "stream",
     "text": [
      "<!DOCTYPE html>\n",
      "<html>\n",
      " <head>\n",
      "  <title>\n",
      "   Page Title\n",
      "  </title>\n",
      " </head>\n",
      " <body>\n",
      "  <h3>\n",
      "   <b id=\"boldest\">\n",
      "    Lebron James\n",
      "   </b>\n",
      "  </h3>\n",
      "  <p>\n",
      "   Salary: $ 92,000,000\n",
      "  </p>\n",
      "  <h3>\n",
      "   Stephen Curry\n",
      "  </h3>\n",
      "  <p>\n",
      "   Salary: $85,000, 000\n",
      "  </p>\n",
      "  <h3>\n",
      "   Kevin Durant\n",
      "  </h3>\n",
      "  <p>\n",
      "   Salary: $73,200, 000\n",
      "  </p>\n",
      " </body>\n",
      "</html>\n",
      "\n"
     ]
    }
   ],
   "source": [
    "print(soup.prettify())"
   ]
  },
  {
   "cell_type": "markdown",
   "metadata": {},
   "source": [
    "## Tags\n"
   ]
  },
  {
   "cell_type": "markdown",
   "metadata": {},
   "source": [
    "Let's say we want the  title of the page and the name of the top paid player. We can use the <code>Tag</code>. The <code>Tag</code> object corresponds to an HTML tag in the original document, for example, the tag title.\n"
   ]
  },
  {
   "cell_type": "code",
   "execution_count": 12,
   "metadata": {},
   "outputs": [
    {
     "name": "stdout",
     "output_type": "stream",
     "text": [
      "tag object: <b id=\"boldest\">Lebron James</b>\n"
     ]
    }
   ],
   "source": [
    "tag_object=soup.b\n",
    "print(\"tag object:\",tag_object)"
   ]
  },
  {
   "cell_type": "markdown",
   "metadata": {},
   "source": [
    "we can see the tag type <code>bs4.element.Tag</code>\n"
   ]
  },
  {
   "cell_type": "code",
   "execution_count": 13,
   "metadata": {},
   "outputs": [
    {
     "name": "stdout",
     "output_type": "stream",
     "text": [
      "tag object type: <class 'bs4.element.Tag'>\n"
     ]
    }
   ],
   "source": [
    "print(\"tag object type:\",type(tag_object))"
   ]
  },
  {
   "cell_type": "markdown",
   "metadata": {},
   "source": [
    "If there is more than one <code>Tag</code> with the same name, the first element with that <code>Tag</code> name is called. This corresponds to the most paid player:\n"
   ]
  },
  {
   "cell_type": "code",
   "execution_count": 28,
   "metadata": {},
   "outputs": [
    {
     "data": {
      "text/plain": [
       "<h3><b id=\"boldest\">Lebron James</b></h3>"
      ]
     },
     "execution_count": 28,
     "metadata": {},
     "output_type": "execute_result"
    }
   ],
   "source": [
    "tag_object=soup.h3\n",
    "tag_object"
   ]
  },
  {
   "cell_type": "markdown",
   "metadata": {},
   "source": [
    "Enclosed in the bold attribute <code>b</code>, it helps to use the tree representation. We can navigate down the tree using the child attribute to get the name.\n"
   ]
  },
  {
   "cell_type": "markdown",
   "metadata": {},
   "source": [
    "### Children, Parents, and Siblings\n"
   ]
  },
  {
   "cell_type": "markdown",
   "metadata": {},
   "source": [
    "As stated above, the <code>Tag</code> object is a tree of objects. We can access the child of the tag or navigate down the branch as follows:\n"
   ]
  },
  {
   "cell_type": "code",
   "execution_count": 29,
   "metadata": {},
   "outputs": [
    {
     "data": {
      "text/plain": [
       "<b id=\"boldest\">Lebron James</b>"
      ]
     },
     "execution_count": 29,
     "metadata": {},
     "output_type": "execute_result"
    }
   ],
   "source": [
    "tag_child =tag_object.b\n",
    "tag_child"
   ]
  },
  {
   "cell_type": "markdown",
   "metadata": {},
   "source": [
    "You can access the parent with the <code> parent</code>.\n"
   ]
  },
  {
   "cell_type": "code",
   "execution_count": 30,
   "metadata": {},
   "outputs": [
    {
     "data": {
      "text/plain": [
       "<h3><b id=\"boldest\">Lebron James</b></h3>"
      ]
     },
     "execution_count": 30,
     "metadata": {},
     "output_type": "execute_result"
    }
   ],
   "source": [
    "parent_tag=tag_child.parent\n",
    "parent_tag"
   ]
  },
  {
   "cell_type": "markdown",
   "metadata": {},
   "source": [
    "this is identical to:\n"
   ]
  },
  {
   "cell_type": "code",
   "execution_count": 31,
   "metadata": {},
   "outputs": [
    {
     "data": {
      "text/plain": [
       "<h3><b id=\"boldest\">Lebron James</b></h3>"
      ]
     },
     "execution_count": 31,
     "metadata": {},
     "output_type": "execute_result"
    }
   ],
   "source": [
    "tag_object"
   ]
  },
  {
   "cell_type": "markdown",
   "metadata": {},
   "source": [
    "<code>tag_object</code> parent is the <code>body</code> element.\n"
   ]
  },
  {
   "cell_type": "code",
   "execution_count": 32,
   "metadata": {},
   "outputs": [
    {
     "data": {
      "text/plain": [
       "<body><h3><b id=\"boldest\">Lebron James</b></h3><p> Salary: $ 92,000,000 </p><h3> Stephen Curry</h3><p> Salary: $85,000, 000 </p><h3> Kevin Durant </h3><p> Salary: $73,200, 000</p></body>"
      ]
     },
     "execution_count": 32,
     "metadata": {},
     "output_type": "execute_result"
    }
   ],
   "source": [
    "tag_object.parent"
   ]
  },
  {
   "cell_type": "markdown",
   "metadata": {},
   "source": [
    "<code>tag_object</code> sibling is the <code>paragraph</code> element.\n"
   ]
  },
  {
   "cell_type": "code",
   "execution_count": 33,
   "metadata": {},
   "outputs": [
    {
     "data": {
      "text/plain": [
       "<p> Salary: $ 92,000,000 </p>"
      ]
     },
     "execution_count": 33,
     "metadata": {},
     "output_type": "execute_result"
    }
   ],
   "source": [
    "sibling_1=tag_object.next_sibling\n",
    "sibling_1"
   ]
  },
  {
   "cell_type": "markdown",
   "metadata": {},
   "source": [
    "`sibling_2` is the `header` element, which is also a sibling of both `sibling_1` and `tag_object`\n"
   ]
  },
  {
   "cell_type": "code",
   "execution_count": 34,
   "metadata": {},
   "outputs": [
    {
     "data": {
      "text/plain": [
       "<h3> Stephen Curry</h3>"
      ]
     },
     "execution_count": 34,
     "metadata": {},
     "output_type": "execute_result"
    }
   ],
   "source": [
    "sibling_2=sibling_1.next_sibling\n",
    "sibling_2"
   ]
  },
  {
   "cell_type": "markdown",
   "metadata": {},
   "source": [
    "<h3 id=\"first_question\">Exercise: <code>next_sibling</code></h3>\n"
   ]
  },
  {
   "cell_type": "markdown",
   "metadata": {},
   "source": [
    "Use the object <code>sibling\\_2</code> and the method <code>next_sibling</code> to find the salary of Stephen Curry:\n"
   ]
  },
  {
   "cell_type": "code",
   "execution_count": 36,
   "metadata": {},
   "outputs": [
    {
     "data": {
      "text/plain": [
       "<p> Salary: $85,000, 000 </p>"
      ]
     },
     "execution_count": 36,
     "metadata": {},
     "output_type": "execute_result"
    }
   ],
   "source": [
    "salary = sibling_2.next_sibling\n",
    "salary"
   ]
  },
  {
   "cell_type": "markdown",
   "metadata": {},
   "source": [
    "<details><summary>Click here for the solution</summary>\n",
    "\n",
    "```\n",
    "sibling_2.next_sibling\n",
    "\n",
    "```\n",
    "\n",
    "</details>\n"
   ]
  },
  {
   "cell_type": "markdown",
   "metadata": {},
   "source": [
    "### HTML Attributes\n"
   ]
  },
  {
   "cell_type": "markdown",
   "metadata": {},
   "source": [
    "If the tag has attributes, the tag <code>id=\"boldest\"</code> has an attribute <code>id</code> whose value is <code>boldest</code>. You can access a tag's attributes by treating the tag like a dictionary:\n"
   ]
  },
  {
   "cell_type": "code",
   "execution_count": 37,
   "metadata": {},
   "outputs": [
    {
     "data": {
      "text/plain": [
       "'boldest'"
      ]
     },
     "execution_count": 37,
     "metadata": {},
     "output_type": "execute_result"
    }
   ],
   "source": [
    "tag_child['id']"
   ]
  },
  {
   "cell_type": "markdown",
   "metadata": {},
   "source": [
    "You can access that dictionary directly as <code>attrs</code>:\n"
   ]
  },
  {
   "cell_type": "code",
   "execution_count": 38,
   "metadata": {},
   "outputs": [
    {
     "data": {
      "text/plain": [
       "{'id': 'boldest'}"
      ]
     },
     "execution_count": 38,
     "metadata": {},
     "output_type": "execute_result"
    }
   ],
   "source": [
    "tag_child.attrs"
   ]
  },
  {
   "cell_type": "markdown",
   "metadata": {},
   "source": [
    "You can also work with Multi-valued attributes. Check out <a href=\"https://www.crummy.com/software/BeautifulSoup/bs4/doc/?utm_medium=Exinfluencer&utm_source=Exinfluencer&utm_content=000026UJ&utm_term=10006555&utm_id=NA-SkillsNetwork-Channel-SkillsNetworkCoursesIBMDeveloperSkillsNetworkPY0101ENSkillsNetwork19487395-2021-01-01\">\\[1]</a> for more.\n"
   ]
  },
  {
   "cell_type": "markdown",
   "metadata": {},
   "source": [
    "We can also obtain the content of the attribute of the <code>tag</code> using the Python <code>get()</code> method.\n"
   ]
  },
  {
   "cell_type": "code",
   "execution_count": null,
   "metadata": {},
   "outputs": [],
   "source": [
    "tag_child.get('id')"
   ]
  },
  {
   "cell_type": "markdown",
   "metadata": {},
   "source": [
    "### Navigable String\n"
   ]
  },
  {
   "cell_type": "markdown",
   "metadata": {},
   "source": [
    "A string corresponds to a bit of text or content within a tag. Beautiful Soup uses the <code>NavigableString</code> class to contain this text. In our HTML we can obtain the name of the first player by extracting the string of the <code>Tag</code> object <code>tag_child</code> as follows:\n"
   ]
  },
  {
   "cell_type": "code",
   "execution_count": 41,
   "metadata": {},
   "outputs": [
    {
     "data": {
      "text/plain": [
       "'Lebron James'"
      ]
     },
     "execution_count": 41,
     "metadata": {},
     "output_type": "execute_result"
    }
   ],
   "source": [
    "tag_string=tag_object.string\n",
    "tag_string"
   ]
  },
  {
   "cell_type": "markdown",
   "metadata": {},
   "source": [
    "we can verify the type is Navigable String\n"
   ]
  },
  {
   "cell_type": "code",
   "execution_count": 42,
   "metadata": {},
   "outputs": [
    {
     "data": {
      "text/plain": [
       "bs4.element.NavigableString"
      ]
     },
     "execution_count": 42,
     "metadata": {},
     "output_type": "execute_result"
    }
   ],
   "source": [
    "type(tag_string)"
   ]
  },
  {
   "cell_type": "markdown",
   "metadata": {},
   "source": [
    "A NavigableString is similar to a Python string or Unicode string. To be more precise, the main difference is that it also supports some <code>BeautifulSoup</code> features. We can convert it to string object in Python:\n"
   ]
  },
  {
   "cell_type": "code",
   "execution_count": 44,
   "metadata": {},
   "outputs": [
    {
     "data": {
      "text/plain": [
       "str"
      ]
     },
     "execution_count": 44,
     "metadata": {},
     "output_type": "execute_result"
    }
   ],
   "source": [
    "unicode_string = str(tag_string)\n",
    "type(unicode_string)"
   ]
  },
  {
   "cell_type": "markdown",
   "metadata": {},
   "source": [
    "<h2 id=\"filter\">Filter</h2>\n"
   ]
  },
  {
   "cell_type": "markdown",
   "metadata": {},
   "source": [
    "Filters allow you to find complex patterns, the simplest filter is a string. In this section we will pass a string to a different filter method and Beautiful Soup will perform a match against that exact string. Consider the following HTML of rocket launches:\n"
   ]
  },
  {
   "cell_type": "code",
   "execution_count": 45,
   "metadata": {},
   "outputs": [
    {
     "data": {
      "text/html": [
       "<table>\n",
       "  <tr>\n",
       "    <td id='flight' >Flight No</td>\n",
       "    <td>Launch site</td> \n",
       "    <td>Payload mass</td>\n",
       "   </tr>\n",
       "  <tr> \n",
       "    <td>1</td>\n",
       "    <td><a href='https://en.wikipedia.org/wiki/Florida'>Florida</a></td>\n",
       "    <td>300 kg</td>\n",
       "  </tr>\n",
       "  <tr>\n",
       "    <td>2</td>\n",
       "    <td><a href='https://en.wikipedia.org/wiki/Texas'>Texas</a></td>\n",
       "    <td>94 kg</td>\n",
       "  </tr>\n",
       "  <tr>\n",
       "    <td>3</td>\n",
       "    <td><a href='https://en.wikipedia.org/wiki/Florida'>Florida<a> </td>\n",
       "    <td>80 kg</td>\n",
       "  </tr>\n",
       "</table>\n"
      ],
      "text/plain": [
       "<IPython.core.display.HTML object>"
      ]
     },
     "metadata": {},
     "output_type": "display_data"
    }
   ],
   "source": [
    "%%html\n",
    "<table>\n",
    "  <tr>\n",
    "    <td id='flight' >Flight No</td>\n",
    "    <td>Launch site</td> \n",
    "    <td>Payload mass</td>\n",
    "   </tr>\n",
    "  <tr> \n",
    "    <td>1</td>\n",
    "    <td><a href='https://en.wikipedia.org/wiki/Florida'>Florida</a></td>\n",
    "    <td>300 kg</td>\n",
    "  </tr>\n",
    "  <tr>\n",
    "    <td>2</td>\n",
    "    <td><a href='https://en.wikipedia.org/wiki/Texas'>Texas</a></td>\n",
    "    <td>94 kg</td>\n",
    "  </tr>\n",
    "  <tr>\n",
    "    <td>3</td>\n",
    "    <td><a href='https://en.wikipedia.org/wiki/Florida'>Florida<a> </td>\n",
    "    <td>80 kg</td>\n",
    "  </tr>\n",
    "</table>"
   ]
  },
  {
   "cell_type": "markdown",
   "metadata": {},
   "source": [
    "We can store it as a string in the variable <code>table</code>:\n"
   ]
  },
  {
   "cell_type": "code",
   "execution_count": 46,
   "metadata": {},
   "outputs": [],
   "source": [
    "table=\"<table><tr><td id='flight'>Flight No</td><td>Launch site</td> <td>Payload mass</td></tr><tr> <td>1</td><td><a href='https://en.wikipedia.org/wiki/Florida'>Florida<a></td><td>300 kg</td></tr><tr><td>2</td><td><a href='https://en.wikipedia.org/wiki/Texas'>Texas</a></td><td>94 kg</td></tr><tr><td>3</td><td><a href='https://en.wikipedia.org/wiki/Florida'>Florida<a> </td><td>80 kg</td></tr></table>\""
   ]
  },
  {
   "cell_type": "code",
   "execution_count": 60,
   "metadata": {},
   "outputs": [
    {
     "data": {
      "text/plain": [
       "<html><head></head><body><table><tbody><tr><td id=\"flight\">Flight No</td><td>Launch site</td> <td>Payload mass</td></tr><tr> <td>1</td><td><a href=\"https://en.wikipedia.org/wiki/Florida\">Florida</a><a></a></td><td>300 kg</td></tr><tr><td>2</td><td><a href=\"https://en.wikipedia.org/wiki/Texas\">Texas</a></td><td>94 kg</td></tr><tr><td>3</td><td><a href=\"https://en.wikipedia.org/wiki/Florida\">Florida</a><a> </a></td><td>80 kg</td></tr></tbody></table></body></html>"
      ]
     },
     "execution_count": 60,
     "metadata": {},
     "output_type": "execute_result"
    }
   ],
   "source": [
    "table_bs = BeautifulSoup(table, 'html5lib')\n",
    "table_bs\n"
   ]
  },
  {
   "cell_type": "markdown",
   "metadata": {},
   "source": [
    "## find All\n"
   ]
  },
  {
   "cell_type": "markdown",
   "metadata": {},
   "source": [
    "The <code>find_all()</code> method looks through a tag's descendants and retrieves all descendants that match your filters.\n",
    "\n",
    "<p>\n",
    "The Method signature for <code>find_all(name, attrs, recursive, string, limit, **kwargs)<c/ode>\n",
    "</p>\n"
   ]
  },
  {
   "cell_type": "markdown",
   "metadata": {},
   "source": [
    "### Name\n"
   ]
  },
  {
   "cell_type": "markdown",
   "metadata": {},
   "source": [
    "When we set the <code>name</code> parameter to a tag name, the method will extract all the tags with that name and its children.\n"
   ]
  },
  {
   "cell_type": "code",
   "execution_count": 61,
   "metadata": {},
   "outputs": [
    {
     "data": {
      "text/plain": [
       "[<tr><td id=\"flight\">Flight No</td><td>Launch site</td> <td>Payload mass</td></tr>,\n",
       " <tr> <td>1</td><td><a href=\"https://en.wikipedia.org/wiki/Florida\">Florida</a><a></a></td><td>300 kg</td></tr>,\n",
       " <tr><td>2</td><td><a href=\"https://en.wikipedia.org/wiki/Texas\">Texas</a></td><td>94 kg</td></tr>,\n",
       " <tr><td>3</td><td><a href=\"https://en.wikipedia.org/wiki/Florida\">Florida</a><a> </a></td><td>80 kg</td></tr>]"
      ]
     },
     "execution_count": 61,
     "metadata": {},
     "output_type": "execute_result"
    }
   ],
   "source": [
    "table_rows=table_bs.find_all('tr')\n",
    "table_rows"
   ]
  },
  {
   "cell_type": "markdown",
   "metadata": {},
   "source": [
    "The result is a Python iterable just like a list, each element is a <code>tag</code> object:\n"
   ]
  },
  {
   "cell_type": "code",
   "execution_count": 52,
   "metadata": {},
   "outputs": [
    {
     "data": {
      "text/plain": [
       "<tr> <td>1</td><td><a href=\"https://en.wikipedia.org/wiki/Florida\">Florida</a><a></a></td><td>300 kg</td></tr>"
      ]
     },
     "execution_count": 52,
     "metadata": {},
     "output_type": "execute_result"
    }
   ],
   "source": [
    "first_row =table_rows[1]\n",
    "first_row"
   ]
  },
  {
   "cell_type": "markdown",
   "metadata": {},
   "source": [
    "The type is <code>tag</code>\n"
   ]
  },
  {
   "cell_type": "code",
   "execution_count": 54,
   "metadata": {},
   "outputs": [
    {
     "name": "stdout",
     "output_type": "stream",
     "text": [
      "<class 'bs4.element.Tag'>\n"
     ]
    }
   ],
   "source": [
    "print(type(first_row))"
   ]
  },
  {
   "cell_type": "markdown",
   "metadata": {},
   "source": [
    "we can obtain the child\n"
   ]
  },
  {
   "cell_type": "code",
   "execution_count": 57,
   "metadata": {},
   "outputs": [
    {
     "data": {
      "text/plain": [
       "<td>1</td>"
      ]
     },
     "execution_count": 57,
     "metadata": {},
     "output_type": "execute_result"
    }
   ],
   "source": [
    "first_row.td"
   ]
  },
  {
   "cell_type": "markdown",
   "metadata": {},
   "source": [
    "If we iterate through the list, each element corresponds to a row in the table:\n"
   ]
  },
  {
   "cell_type": "code",
   "execution_count": 58,
   "metadata": {},
   "outputs": [
    {
     "name": "stdout",
     "output_type": "stream",
     "text": [
      "row 0 is <tr><td id=\"flight\">Flight No</td><td>Launch site</td> <td>Payload mass</td></tr>\n",
      "row 1 is <tr> <td>1</td><td><a href=\"https://en.wikipedia.org/wiki/Florida\">Florida</a><a></a></td><td>300 kg</td></tr>\n",
      "row 2 is <tr><td>2</td><td><a href=\"https://en.wikipedia.org/wiki/Texas\">Texas</a></td><td>94 kg</td></tr>\n",
      "row 3 is <tr><td>3</td><td><a href=\"https://en.wikipedia.org/wiki/Florida\">Florida</a><a> </a></td><td>80 kg</td></tr>\n"
     ]
    }
   ],
   "source": [
    "for i,row in enumerate(table_rows):\n",
    "    print(\"row\",i,\"is\",row)\n",
    "    "
   ]
  },
  {
   "cell_type": "markdown",
   "metadata": {},
   "source": [
    "As <code>row</code> is a <code>cell</code> object, we can apply the method <code>find_all</code> to it and extract table cells in the object <code>cells</code> using the tag <code>td</code>, this is all the children with the name <code>td</code>. The result is a list, each element corresponds to a cell and is a <code>Tag</code> object, we can iterate through this list as well. We can extract the content using the <code>string</code> attribute.\n"
   ]
  },
  {
   "cell_type": "code",
   "execution_count": 59,
   "metadata": {},
   "outputs": [
    {
     "name": "stdout",
     "output_type": "stream",
     "text": [
      "row 0\n",
      "colunm 0 cell <td id=\"flight\">Flight No</td>\n",
      "colunm 1 cell <td>Launch site</td>\n",
      "colunm 2 cell <td>Payload mass</td>\n",
      "row 1\n",
      "colunm 0 cell <td>1</td>\n",
      "colunm 1 cell <td><a href=\"https://en.wikipedia.org/wiki/Florida\">Florida</a><a></a></td>\n",
      "colunm 2 cell <td>300 kg</td>\n",
      "row 2\n",
      "colunm 0 cell <td>2</td>\n",
      "colunm 1 cell <td><a href=\"https://en.wikipedia.org/wiki/Texas\">Texas</a></td>\n",
      "colunm 2 cell <td>94 kg</td>\n",
      "row 3\n",
      "colunm 0 cell <td>3</td>\n",
      "colunm 1 cell <td><a href=\"https://en.wikipedia.org/wiki/Florida\">Florida</a><a> </a></td>\n",
      "colunm 2 cell <td>80 kg</td>\n"
     ]
    }
   ],
   "source": [
    "for i,row in enumerate(table_rows):\n",
    "    print(\"row\",i)\n",
    "    cells=row.find_all('td')\n",
    "    for j,cell in enumerate(cells):\n",
    "        print('colunm',j,\"cell\",cell)"
   ]
  },
  {
   "cell_type": "markdown",
   "metadata": {},
   "source": [
    "If we use a list we can match against any item in that list.\n"
   ]
  },
  {
   "cell_type": "code",
   "execution_count": 62,
   "metadata": {},
   "outputs": [
    {
     "data": {
      "text/plain": [
       "[<tr><td id=\"flight\">Flight No</td><td>Launch site</td> <td>Payload mass</td></tr>,\n",
       " <td id=\"flight\">Flight No</td>,\n",
       " <td>Launch site</td>,\n",
       " <td>Payload mass</td>,\n",
       " <tr> <td>1</td><td><a href=\"https://en.wikipedia.org/wiki/Florida\">Florida</a><a></a></td><td>300 kg</td></tr>,\n",
       " <td>1</td>,\n",
       " <td><a href=\"https://en.wikipedia.org/wiki/Florida\">Florida</a><a></a></td>,\n",
       " <td>300 kg</td>,\n",
       " <tr><td>2</td><td><a href=\"https://en.wikipedia.org/wiki/Texas\">Texas</a></td><td>94 kg</td></tr>,\n",
       " <td>2</td>,\n",
       " <td><a href=\"https://en.wikipedia.org/wiki/Texas\">Texas</a></td>,\n",
       " <td>94 kg</td>,\n",
       " <tr><td>3</td><td><a href=\"https://en.wikipedia.org/wiki/Florida\">Florida</a><a> </a></td><td>80 kg</td></tr>,\n",
       " <td>3</td>,\n",
       " <td><a href=\"https://en.wikipedia.org/wiki/Florida\">Florida</a><a> </a></td>,\n",
       " <td>80 kg</td>]"
      ]
     },
     "execution_count": 62,
     "metadata": {},
     "output_type": "execute_result"
    }
   ],
   "source": [
    "list_input=table_bs.find_all(name=[\"tr\", \"td\"])\n",
    "list_input"
   ]
  },
  {
   "cell_type": "markdown",
   "metadata": {},
   "source": [
    "## Attributes\n"
   ]
  },
  {
   "cell_type": "markdown",
   "metadata": {},
   "source": [
    "If the argument is not recognized it will be turned into a filter on the tag's attributes. For example with the <code>id</code> argument, Beautiful Soup will filter against each tag's <code>id</code> attribute. For example, the first <code>td</code> elements have a value of <code>id</code> of <code>flight</code>, therefore we can filter based on that <code>id</code> value.\n"
   ]
  },
  {
   "cell_type": "code",
   "execution_count": 63,
   "metadata": {},
   "outputs": [
    {
     "data": {
      "text/plain": [
       "[<td id=\"flight\">Flight No</td>]"
      ]
     },
     "execution_count": 63,
     "metadata": {},
     "output_type": "execute_result"
    }
   ],
   "source": [
    "table_bs.find_all(id=\"flight\")"
   ]
  },
  {
   "cell_type": "markdown",
   "metadata": {},
   "source": [
    "We can find all the elements that have links to the Florida Wikipedia page:\n"
   ]
  },
  {
   "cell_type": "code",
   "execution_count": null,
   "metadata": {},
   "outputs": [],
   "source": [
    "list_input=table_bs.find_all(href=\"https://en.wikipedia.org/wiki/Florida\")\n",
    "list_input"
   ]
  },
  {
   "cell_type": "markdown",
   "metadata": {},
   "source": [
    "If we set the <code>href</code> attribute to True, regardless of what the value is, the code finds all tags with <code>href</code> value:\n"
   ]
  },
  {
   "cell_type": "code",
   "execution_count": null,
   "metadata": {},
   "outputs": [],
   "source": [
    "table_bs.find_all(href=True)"
   ]
  },
  {
   "cell_type": "markdown",
   "metadata": {},
   "source": [
    "There are other methods for dealing with attributes and other related methods. Check out the following <a href='https://www.crummy.com/software/BeautifulSoup/bs4/doc/?utm_medium=Exinfluencer&utm_source=Exinfluencer&utm_content=000026UJ&utm_term=10006555&utm_id=NA-SkillsNetwork-Channel-SkillsNetworkCoursesIBMDeveloperSkillsNetworkPY0101ENSkillsNetwork19487395-2021-01-01#css-selectors'>link</a>\n"
   ]
  },
  {
   "cell_type": "markdown",
   "metadata": {},
   "source": [
    "<h3 id=\"exer_type\">Exercise: <code>find_all</code></h3>\n"
   ]
  },
  {
   "cell_type": "markdown",
   "metadata": {},
   "source": [
    "Using the logic above, find all the elements without <code>href</code> value\n"
   ]
  },
  {
   "cell_type": "code",
   "execution_count": 64,
   "metadata": {},
   "outputs": [
    {
     "data": {
      "text/plain": [
       "[<html><head></head><body><table><tbody><tr><td id=\"flight\">Flight No</td><td>Launch site</td> <td>Payload mass</td></tr><tr> <td>1</td><td><a href=\"https://en.wikipedia.org/wiki/Florida\">Florida</a><a></a></td><td>300 kg</td></tr><tr><td>2</td><td><a href=\"https://en.wikipedia.org/wiki/Texas\">Texas</a></td><td>94 kg</td></tr><tr><td>3</td><td><a href=\"https://en.wikipedia.org/wiki/Florida\">Florida</a><a> </a></td><td>80 kg</td></tr></tbody></table></body></html>,\n",
       " <head></head>,\n",
       " <body><table><tbody><tr><td id=\"flight\">Flight No</td><td>Launch site</td> <td>Payload mass</td></tr><tr> <td>1</td><td><a href=\"https://en.wikipedia.org/wiki/Florida\">Florida</a><a></a></td><td>300 kg</td></tr><tr><td>2</td><td><a href=\"https://en.wikipedia.org/wiki/Texas\">Texas</a></td><td>94 kg</td></tr><tr><td>3</td><td><a href=\"https://en.wikipedia.org/wiki/Florida\">Florida</a><a> </a></td><td>80 kg</td></tr></tbody></table></body>,\n",
       " <table><tbody><tr><td id=\"flight\">Flight No</td><td>Launch site</td> <td>Payload mass</td></tr><tr> <td>1</td><td><a href=\"https://en.wikipedia.org/wiki/Florida\">Florida</a><a></a></td><td>300 kg</td></tr><tr><td>2</td><td><a href=\"https://en.wikipedia.org/wiki/Texas\">Texas</a></td><td>94 kg</td></tr><tr><td>3</td><td><a href=\"https://en.wikipedia.org/wiki/Florida\">Florida</a><a> </a></td><td>80 kg</td></tr></tbody></table>,\n",
       " <tbody><tr><td id=\"flight\">Flight No</td><td>Launch site</td> <td>Payload mass</td></tr><tr> <td>1</td><td><a href=\"https://en.wikipedia.org/wiki/Florida\">Florida</a><a></a></td><td>300 kg</td></tr><tr><td>2</td><td><a href=\"https://en.wikipedia.org/wiki/Texas\">Texas</a></td><td>94 kg</td></tr><tr><td>3</td><td><a href=\"https://en.wikipedia.org/wiki/Florida\">Florida</a><a> </a></td><td>80 kg</td></tr></tbody>,\n",
       " <tr><td id=\"flight\">Flight No</td><td>Launch site</td> <td>Payload mass</td></tr>,\n",
       " <td id=\"flight\">Flight No</td>,\n",
       " <td>Launch site</td>,\n",
       " <td>Payload mass</td>,\n",
       " <tr> <td>1</td><td><a href=\"https://en.wikipedia.org/wiki/Florida\">Florida</a><a></a></td><td>300 kg</td></tr>,\n",
       " <td>1</td>,\n",
       " <td><a href=\"https://en.wikipedia.org/wiki/Florida\">Florida</a><a></a></td>,\n",
       " <a></a>,\n",
       " <td>300 kg</td>,\n",
       " <tr><td>2</td><td><a href=\"https://en.wikipedia.org/wiki/Texas\">Texas</a></td><td>94 kg</td></tr>,\n",
       " <td>2</td>,\n",
       " <td><a href=\"https://en.wikipedia.org/wiki/Texas\">Texas</a></td>,\n",
       " <td>94 kg</td>,\n",
       " <tr><td>3</td><td><a href=\"https://en.wikipedia.org/wiki/Florida\">Florida</a><a> </a></td><td>80 kg</td></tr>,\n",
       " <td>3</td>,\n",
       " <td><a href=\"https://en.wikipedia.org/wiki/Florida\">Florida</a><a> </a></td>,\n",
       " <a> </a>,\n",
       " <td>80 kg</td>]"
      ]
     },
     "execution_count": 64,
     "metadata": {},
     "output_type": "execute_result"
    }
   ],
   "source": [
    "table_bs.find_all(href=False)"
   ]
  },
  {
   "cell_type": "markdown",
   "metadata": {},
   "source": [
    "<details><summary>Click here for the solution</summary>\n",
    "\n",
    "```\n",
    "table_bs.find_all(href=False)\n",
    "\n",
    "```\n",
    "\n",
    "</details>\n"
   ]
  },
  {
   "cell_type": "markdown",
   "metadata": {},
   "source": [
    "Using the soup object <code>soup</code>, find the element with the <code>id</code> attribute content set to <code>\"boldest\"</code>.\n"
   ]
  },
  {
   "cell_type": "code",
   "execution_count": 66,
   "metadata": {},
   "outputs": [
    {
     "data": {
      "text/plain": [
       "[<b id=\"boldest\">Lebron James</b>]"
      ]
     },
     "execution_count": 66,
     "metadata": {},
     "output_type": "execute_result"
    }
   ],
   "source": [
    "soup.find_all(id='boldest')"
   ]
  },
  {
   "cell_type": "markdown",
   "metadata": {},
   "source": [
    "<details><summary>Click here for the solution</summary>\n",
    "\n",
    "```\n",
    "soup.find_all(id=\"boldest\")\n",
    "\n",
    "```\n",
    "\n",
    "</details>\n"
   ]
  },
  {
   "cell_type": "markdown",
   "metadata": {},
   "source": [
    "### string\n"
   ]
  },
  {
   "cell_type": "markdown",
   "metadata": {},
   "source": [
    "With string you can search for strings instead of tags, where we find all the elments with Florida:\n"
   ]
  },
  {
   "cell_type": "code",
   "execution_count": 67,
   "metadata": {},
   "outputs": [
    {
     "data": {
      "text/plain": [
       "['Florida', 'Florida']"
      ]
     },
     "execution_count": 67,
     "metadata": {},
     "output_type": "execute_result"
    }
   ],
   "source": [
    "table_bs.find_all(string=\"Florida\")"
   ]
  },
  {
   "cell_type": "markdown",
   "metadata": {},
   "source": [
    "## find\n"
   ]
  },
  {
   "cell_type": "markdown",
   "metadata": {},
   "source": [
    "The <code>find_all()</code> method scans the entire document looking for results. It’s useful if you are looking for one element, as you can use the <code>find()</code> method to find the first element in the document. Consider the following two tables:\n"
   ]
  },
  {
   "cell_type": "code",
   "execution_count": 68,
   "metadata": {},
   "outputs": [
    {
     "data": {
      "text/html": [
       "<h3>Rocket Launch </h3>\n",
       "\n",
       "<p>\n",
       "<table class='rocket'>\n",
       "  <tr>\n",
       "    <td>Flight No</td>\n",
       "    <td>Launch site</td> \n",
       "    <td>Payload mass</td>\n",
       "  </tr>\n",
       "  <tr>\n",
       "    <td>1</td>\n",
       "    <td>Florida</td>\n",
       "    <td>300 kg</td>\n",
       "  </tr>\n",
       "  <tr>\n",
       "    <td>2</td>\n",
       "    <td>Texas</td>\n",
       "    <td>94 kg</td>\n",
       "  </tr>\n",
       "  <tr>\n",
       "    <td>3</td>\n",
       "    <td>Florida </td>\n",
       "    <td>80 kg</td>\n",
       "  </tr>\n",
       "</table>\n",
       "</p>\n",
       "<p>\n",
       "\n",
       "<h3>Pizza Party  </h3>\n",
       "  \n",
       "    \n",
       "<table class='pizza'>\n",
       "  <tr>\n",
       "    <td>Pizza Place</td>\n",
       "    <td>Orders</td> \n",
       "    <td>Slices </td>\n",
       "   </tr>\n",
       "  <tr>\n",
       "    <td>Domino's Pizza</td>\n",
       "    <td>10</td>\n",
       "    <td>100</td>\n",
       "  </tr>\n",
       "  <tr>\n",
       "    <td>Little Caesars</td>\n",
       "    <td>12</td>\n",
       "    <td >144 </td>\n",
       "  </tr>\n",
       "  <tr>\n",
       "    <td>Papa John's </td>\n",
       "    <td>15 </td>\n",
       "    <td>165</td>\n",
       "  </tr>\n"
      ],
      "text/plain": [
       "<IPython.core.display.HTML object>"
      ]
     },
     "metadata": {},
     "output_type": "display_data"
    }
   ],
   "source": [
    "%%html\n",
    "<h3>Rocket Launch </h3>\n",
    "\n",
    "<p>\n",
    "<table class='rocket'>\n",
    "  <tr>\n",
    "    <td>Flight No</td>\n",
    "    <td>Launch site</td> \n",
    "    <td>Payload mass</td>\n",
    "  </tr>\n",
    "  <tr>\n",
    "    <td>1</td>\n",
    "    <td>Florida</td>\n",
    "    <td>300 kg</td>\n",
    "  </tr>\n",
    "  <tr>\n",
    "    <td>2</td>\n",
    "    <td>Texas</td>\n",
    "    <td>94 kg</td>\n",
    "  </tr>\n",
    "  <tr>\n",
    "    <td>3</td>\n",
    "    <td>Florida </td>\n",
    "    <td>80 kg</td>\n",
    "  </tr>\n",
    "</table>\n",
    "</p>\n",
    "<p>\n",
    "\n",
    "<h3>Pizza Party  </h3>\n",
    "  \n",
    "    \n",
    "<table class='pizza'>\n",
    "  <tr>\n",
    "    <td>Pizza Place</td>\n",
    "    <td>Orders</td> \n",
    "    <td>Slices </td>\n",
    "   </tr>\n",
    "  <tr>\n",
    "    <td>Domino's Pizza</td>\n",
    "    <td>10</td>\n",
    "    <td>100</td>\n",
    "  </tr>\n",
    "  <tr>\n",
    "    <td>Little Caesars</td>\n",
    "    <td>12</td>\n",
    "    <td >144 </td>\n",
    "  </tr>\n",
    "  <tr>\n",
    "    <td>Papa John's </td>\n",
    "    <td>15 </td>\n",
    "    <td>165</td>\n",
    "  </tr>\n"
   ]
  },
  {
   "cell_type": "markdown",
   "metadata": {},
   "source": [
    "We store the HTML as a Python string and assign <code>two_tables</code>:\n"
   ]
  },
  {
   "cell_type": "code",
   "execution_count": 69,
   "metadata": {},
   "outputs": [],
   "source": [
    "two_tables=\"<h3>Rocket Launch </h3><p><table class='rocket'><tr><td>Flight No</td><td>Launch site</td> <td>Payload mass</td></tr><tr><td>1</td><td>Florida</td><td>300 kg</td></tr><tr><td>2</td><td>Texas</td><td>94 kg</td></tr><tr><td>3</td><td>Florida </td><td>80 kg</td></tr></table></p><p><h3>Pizza Party  </h3><table class='pizza'><tr><td>Pizza Place</td><td>Orders</td> <td>Slices </td></tr><tr><td>Domino's Pizza</td><td>10</td><td>100</td></tr><tr><td>Little Caesars</td><td>12</td><td >144 </td></tr><tr><td>Papa John's </td><td>15 </td><td>165</td></tr>\""
   ]
  },
  {
   "cell_type": "markdown",
   "metadata": {},
   "source": [
    "We create a <code>BeautifulSoup</code> object  <code>two_tables_bs</code>\n"
   ]
  },
  {
   "cell_type": "code",
   "execution_count": 70,
   "metadata": {},
   "outputs": [],
   "source": [
    "two_tables_bs= BeautifulSoup(two_tables, 'html.parser')"
   ]
  },
  {
   "cell_type": "markdown",
   "metadata": {},
   "source": [
    "We can find the first table using the tag name table\n"
   ]
  },
  {
   "cell_type": "code",
   "execution_count": 71,
   "metadata": {},
   "outputs": [
    {
     "data": {
      "text/plain": [
       "<table class=\"rocket\"><tr><td>Flight No</td><td>Launch site</td> <td>Payload mass</td></tr><tr><td>1</td><td>Florida</td><td>300 kg</td></tr><tr><td>2</td><td>Texas</td><td>94 kg</td></tr><tr><td>3</td><td>Florida </td><td>80 kg</td></tr></table>"
      ]
     },
     "execution_count": 71,
     "metadata": {},
     "output_type": "execute_result"
    }
   ],
   "source": [
    "two_tables_bs.find(\"table\")"
   ]
  },
  {
   "cell_type": "markdown",
   "metadata": {},
   "source": [
    "We can filter on the class attribute to find the second table, but because class is a keyword in Python, we add an underscore to differentiate them.\n"
   ]
  },
  {
   "cell_type": "code",
   "execution_count": 72,
   "metadata": {},
   "outputs": [
    {
     "data": {
      "text/plain": [
       "<table class=\"pizza\"><tr><td>Pizza Place</td><td>Orders</td> <td>Slices </td></tr><tr><td>Domino's Pizza</td><td>10</td><td>100</td></tr><tr><td>Little Caesars</td><td>12</td><td>144 </td></tr><tr><td>Papa John's </td><td>15 </td><td>165</td></tr></table>"
      ]
     },
     "execution_count": 72,
     "metadata": {},
     "output_type": "execute_result"
    }
   ],
   "source": [
    "two_tables_bs.find(\"table\",class_='pizza')"
   ]
  },
  {
   "cell_type": "markdown",
   "metadata": {},
   "source": [
    "<h2 id=\"DSCW\">Downloading And Scraping The Contents Of A Web Page</h2> \n"
   ]
  },
  {
   "cell_type": "markdown",
   "metadata": {},
   "source": [
    "We Download the contents of the web page:\n"
   ]
  },
  {
   "cell_type": "code",
   "execution_count": 73,
   "metadata": {},
   "outputs": [],
   "source": [
    "url = \"http://www.ibm.com\""
   ]
  },
  {
   "cell_type": "markdown",
   "metadata": {},
   "source": [
    "We use <code>get</code> to download the contents of the webpage in text format and store in a variable called <code>data</code>:\n"
   ]
  },
  {
   "cell_type": "code",
   "execution_count": 75,
   "metadata": {},
   "outputs": [
    {
     "data": {
      "text/plain": [
       "'<!DOCTYPE html>\\n<html lang=\"en-in\" dir=\"ltr\">\\n  <head>\\n    <meta charset=\"utf-8\" />\\n<script>digitalData = {\\n    \"page\": {\\n        \"category\": [],\\n        \"pageInfo\": {\\n            \"language\": \"en-IN\",\\n            \"country\": \"IN\",\\n            \"publisher\": \"IBM Corporation\",\\n            \"version\": \"v19\",\\n            \"ibm\": {\\n                \"contentDelivery\": \"Drupal 9\",\\n                \"contentProducer\": \"2598578 - Page Builder\",\\n                \"owner\": \"Peter Barros/White Plains/IBM\",\\n                \"siteID\": \"DRUPAL\",\\n                \"contactModuleConfiguration\": {\\n                    \"contactInformationBundleKey\": {\\n                        \"focusArea\": \"Cross IBM - About IBM\",\\n                        \"languageCode\": \"en\",\\n                        \"regionCode\": \"IN\"\\n                    },\\n                    \"contactModuleTranslationKey\": {\\n                        \"languageCode\": \"en\",\\n                        \"regionCode\": \"IN\"\\n                    }\\n                },\\n                \"config\": {\\n                    \"masthead\": {\\n                        \"type\": \"default\"\\n                    },\\n                    \"footer\": {\\n                        \"type\": \"default\"\\n                    }\\n                }\\n            },\\n            \"publishDate\": \"2023-08-30\",\\n            \"effectiveDate\": \"2021-03-08\",\\n            \"expiryDate\": \"2027-08-30\"\\n        }\\n    }\\n}</script>\\n<meta name=\"geo.country\" content=\"IN\" />\\n<link rel=\"canonical\" href=\"https://www.ibm.com/in-en\" />\\n<meta name=\"robots\" content=\"index, follow\" />\\n<meta name=\"referrer\" content=\"no-referrer-when-downgrade\" />\\n<meta name=\"rights\" content=\"© Copyright IBM Corporation 2023\" />\\n<meta name=\"description\" content=\"For more than a century IBM has been dedicated to every client&#039;s success and to creating innovations that matter for the world\" />\\n<meta property=\"og:type\" content=\"website\" />\\n<meta property=\"og:url\" content=\"https://www.ibm.com/in-en\" />\\n<meta property=\"og:title\" content=\"IBM\" />\\n<meta property=\"og:description\" content=\"For more than a century IBM has been dedicated to every client&#039;s success and to creating innovations that matter for the world\" />\\n<meta property=\"og:image\" content=\"https://1.cms.s81c.com/sites/default/files/2022-11-23/Own%20Your%20Impact%20LS%20-%20DOTS_v2.png\" />\\n<meta property=\"og:locale\" content=\"en-in\" />\\n<meta name=\"twitter:card\" content=\"summary\" />\\n<script>cpp = {\"path\":\"\\\\/cloud\\\\/ajax\\\\/product\\\\/{product}\"}</script>\\n<meta name=\"viewport\" content=\"width=device-width, initial-scale=1.0\" />\\n<link rel=\"preconnect\" href=\"//s3.us.cloud-object-storage.appdomain.cloud\" />\\n<script data-title=\"Components design metadata\">/*\\nLeadspace: v19 - Module 5E - hp-leadspace (5E)-copy\\n\\nBands/Sections:\\n1. v19 - Module 12A - hp-callout (12A)-copy\\n2. v19 - Module 10F - hp-campaigns-band (10F)\\n3. N/A, acceptable for v18 and v19 - Interactive Component - hp-products-explorer (widget)-copy\\n4. v19 - Module 8A - hp-case-study (8A)-copy\\n5. v19 - Module 1A - hp-spacer1 (1A)-copy\\n6. v19 - Module 19F - hp-consulting (19F)-copy\\n7. v19 - Module 8A - hp-about (8A)-copy\\n8. v19 - Module 10F - hp-inside-IBM (10F)-copy\\n9. v19 - Module 1F - hp-overview (1F)-copy\\n\\n*/</script>\\n<link rel=\"alternate\" hreflang=\"en-au\" href=\"https://www.ibm.com/au-en\" />\\n<link rel=\"alternate\" hreflang=\"pt-br\" href=\"https://www.ibm.com/br-pt\" />\\n<link rel=\"alternate\" hreflang=\"en-ca\" href=\"https://www.ibm.com/ca-en\" />\\n<link rel=\"alternate\" hreflang=\"fr-ca\" href=\"https://www.ibm.com/ca-fr\" />\\n<link rel=\"alternate\" hreflang=\"zh-cn\" href=\"https://www.ibm.com/cn-zh\" />\\n<link rel=\"alternate\" hreflang=\"fr-fr\" href=\"https://www.ibm.com/fr-fr\" />\\n<link rel=\"alternate\" hreflang=\"de-de\" href=\"https://www.ibm.com/de-de\" />\\n<link rel=\"alternate\" hreflang=\"en-in\" href=\"https://www.ibm.com/in-en\" />\\n<link rel=\"alternate\" hreflang=\"it-it\" href=\"https://www.ibm.com/it-it\" />\\n<link rel=\"alternate\" hreflang=\"ja-jp\" href=\"https://www.ibm.com/jp-ja\" />\\n<link rel=\"alternate\" hreflang=\"ko-kr\" href=\"https://www.ibm.com/kr-ko\" />\\n<link rel=\"alternate\" hreflang=\"es-mx\" href=\"https://www.ibm.com/mx-es\" />\\n<link rel=\"alternate\" hreflang=\"es-es\" href=\"https://www.ibm.com/es-es\" />\\n<link rel=\"alternate\" hreflang=\"en-gb\" href=\"https://www.ibm.com/uk-en\" />\\n\\n    <title>IBM - India | IBM</title>\\n    <link rel=\\'dns-prefetch\\' href=\\'//1.www.s81c.com\\' />\\n<link rel=\\'preconnect\\' href=\\'//1.www.s81c.com\\' />\\n    <link href=\"//1.www.s81c.com/common/v18/drupal/css/www.css\" rel=\"preload\" as=\"style\"  />\\n    <link rel=\"stylesheet\" href=\"//1.www.s81c.com/common/v18/drupal/css/www.css\" media=\"all\" />\\n<link href=\"//1.www.s81c.com/common/v18/drupal/css/grid-fluid.css\" rel=\"preload\" as=\"style\"  />\\n<link rel=\"stylesheet\" href=\"//1.www.s81c.com/common/v18/drupal/css/grid-fluid.css\" media=\"all\" />\\n<link href=\"//1.www.s81c.com/common/v18/drupal/css/tables.css\" rel=\"preload\" as=\"style\"  />\\n<link rel=\"stylesheet\" href=\"//1.www.s81c.com/common/v18/drupal/css/tables.css\" media=\"all\" />\\n<link rel=\"preload\" href=\"//1.www.s81c.com/common/fonts/plex/v1/ibmplexsans-regular.woff2\" as=\"font\" type=\"font/woff2\" crossorigin>\\n<link rel=\"preload\" href=\"//1.www.s81c.com/common/fonts/plex/v1/ibmplexsans-regularitalic.woff2\" as=\"font\" type=\"font/woff2\" crossorigin>\\n<link rel=\"preload\" href=\"//1.www.s81c.com/common/fonts/plex/v1/ibmplexsans-semibold.woff2\" as=\"font\" type=\"font/woff2\" crossorigin>\\n<link rel=\"preload\" href=\"//1.www.s81c.com/common/fonts/icons-ibm-v12.woff\" as=\"font\" type=\"font/woff\" crossorigin>\\n<link rel=\"preload\" href=\"//1.www.s81c.com/common/fonts/plex/v1/ibmplexsans-light.woff2\" as=\"font\" type=\"font/woff2\" crossorigin>\\n    <link rel=\"stylesheet\" media=\"all\" href=\"//1.www.s81c.com/common/v19a/css/www.css\" />\\n<link rel=\"stylesheet\" media=\"all\" href=\"//1.cms.s81c.com/sites/default/files/css/css_BjRXnE9HqSicbzF0LzocCQ0jbnzRRUvieVblSmYAyAo.css\" />\\n<link rel=\"stylesheet\" media=\"all\" href=\"//hybrid-cloud-widgets-production.s3.us.cloud-object-storage.appdomain.cloud/widgets/product-explorer-main-offerings/css/main.c6b46880.css\" />\\n<link rel=\"stylesheet\" media=\"all\" href=\"//1.cms.s81c.com/sites/default/files/css/css_A_234hgauFvCcz8LV4hlDHSpWGKFCXG7D86gaWgSWU4.css\" />\\n<link rel=\"stylesheet\" media=\"all\" href=\"//1.cms.s81c.com/sites/default/files/css/css_ZhLQDuXor-x-lYC5TuTfNawElhRiNpUUEiJJ0RfGdrw.css\" />\\n\\n    <script src=\"//1.www.s81c.com/common/carbon-for-ibm-dotcom/tag/v2/alpha/masthead.min.js\" type=\"module\" defer></script>\\n<script src=\"//1.www.s81c.com/common/stats/ibm-common.js\"></script>\\n<script src=\"//1.www.s81c.com/common/v18/drupal/js/www.js\" defer></script>\\n<script src=\"//1.www.s81c.com/common/carbon/plex/load-non-latin-plex.js\" defer></script>\\n<script src=\"//1.www.s81c.com/common/v19a/js/www.js\" defer></script>\\n<script src=\"//1.www.s81c.com/common/v18/drupal/js/dyntabs.js\" defer></script>\\n<script src=\"//1.cms.s81c.com/modules/contrib/hc_fractal/dist/js/navs/dds-masthead-locales.js?v=v2.1.1\" defer></script>\\n<script src=\"//1.cms.s81c.com/modules/contrib/hc_fractal/dist/js/navs/dds-masthead-scroll.js?v=v2.1.1\" defer></script>\\n\\n    <noscript>\\n      <link rel=\"stylesheet\" type=\"text/css\" href=\"//1.cms.s81c.com/modules/contrib/hc_fractal/dist/css/no-js.css\" />\\n    </noscript>\\n  </head>\\n  <body id=\"ibm-com\"  uuid=\"13191044-6a14-4729-9e45-bd694fad7d27\" class=\"path-node page-node-type-page-wrapper ibm-type\">\\n    \\n      <div class=\"dialog-off-canvas-main-canvas\" data-off-canvas-main-canvas>\\n    <div id=\"ibm-top\" class=\"ibm-landing-page\">\\n    <div class=\"region region-masthead\">\\n    <div id=\"block-ibm-duo-globalmasthead\">\\n  \\n    \\n      \\n\\n\\n\\n<dds-masthead-container\\n  platform=\"\"\\n  data-endpoint=\"/common/carbon-for-ibm-dotcom/translations/masthead-footer/v2\"\\n    auth-method=\"profile-api\"\\n      has-contact=\"false\"\\n  ></dds-masthead-container>\\n\\n  </div>\\n\\n  </div>\\n\\n  <div id=\"ibm-content-wrapper\">\\n    \\n\\n\\n      <div class=\"region region-help\">\\n    <div data-drupal-messages-fallback class=\"hidden\"></div>\\n\\n  </div>\\n\\n      <div class=\"region region-content\">\\n    <div id=\"block-ibm-duo-content\">\\n  \\n    \\n      \\n\\n\\n\\n\\n\\n\\n\\n\\n\\n\\n\\n\\n\\n\\n\\n  <section  role=\"article\" about=\"/in-en/node/3171764\" class=\"ibm-duo-leadspace ibm-duo-leadspace-large ibm-background-cool-gray-10\" data-bg-lazy-load>\\n    <div class=\"ibm-grid-container ibm-duo-leadspace-large__container\">\\n      <div class=\"ibm-grid-col-sm-4-4 ibm-grid-col-md-8-8 ibm-grid-col-lg-16-16 ibm-grid-col-seamless ibm-duo-leadspace-large__bg\">\\n\\n                  <div class=\"picturefill-background ibm-duo-leadspace-large__image ani-reveal ani-fadeIn\">\\n            <span data-src=\"//1.cms.s81c.com/sites/default/files/2023-08-30/20220425-ls-think2022-ann-26610-2304x983%20%281%29.jpg\"></span>\\n            <span data-src=\"//1.cms.s81c.com/sites/default/files/2023-08-30/Think2023_Leadspace_320x180%402x.png\" data-media=\"(min-width: 320px)\"></span>\\n            <span data-src=\"//1.cms.s81c.com/sites/default/files/2023-08-30/20220425-ls-think2022-ann-26610-2304x983%20%281%29.jpg\" data-media=\"(min-width: 672px)\"></span>\\n          </div>\\n        \\n              </div>\\n\\n      <div class=\"ibm-grid-col-sm-4-4 ibm-grid-col-md-8-4 ibm-grid-col-lg-16-7 ibm-duo-leadspace-large__content\">\\n                  <div class=\"ibm-grid-col-sm-4-3 ibm-grid-col-lg-16-12 ibm-grid-col-xlg-16-16 ibm-grid-col-seamless ibm-mb-4 ibm-duo-leadspace-large__headline ani-reveal ani-fadeInUp\" data-wow-delay=\".2s\">\\n            <h1 class=\"bx--type-expressive-heading-05 bx--type-light ibm-textcolor-gray-90 ibm-pb-0 ibm-mb-0\">\\n                  <span>Think Mumbai 2023 Virtual</span>\\n\\n            </h1>\\n          </div>\\n        \\n        <div class=\"ibm-duo-leadspace-large__subhead\">\\n                      <div class=\"ibm-grid-col-sm-4-3 ibm-grid-col-lg-16-10 ibm-grid-col-xlg-16-12 ibm-grid-col-seamless ani-reveal ani-fadeInUp\" data-wow-delay=\".4s\">\\n              <p class=\"bx--type-expressive-heading-03 ibm-textcolor-gray-70 ibm-mb-0\">\\n                    <span>Join us on 12th September as we showcase cutting-edge technologies and share key principles to guide your generative AI business strategy</span>\\n\\n              </p>\\n            </div>\\n          \\n            \\n            <div class=\"ibm-btn-row ibm-button-link ibm-mt-4 ani-reveal ani-fadeInUp\" data-wow-delay=\".6s\">\\n          \\n\\n        \\n  \\n  \\n  \\n\\n\\n\\n\\n        \\n  <div class=\\'ibm-duo-button-item\\'>\\n    <a  target=\"_self\" href=\"https://www.ibm.com/events/reg/flow/ibm/yazt81mb/landing/page/landing?utm_medium=Web&amp;utm_id=homepage&amp;lnk=hpenls1\" class=\"ibm-btn-pri ibm-duo-btn-cta ibm-duo-u--link-icon\">\\n      Register now\\n      \\n    \\n        \\n\\n                      <svg focusable=\"false\" class=\"ibm-duo-u--link-icon--arrow-right\" preserveAspectRatio=\"xMidYMid meet\" xmlns=\"http://www.w3.org/2000/svg\" fill=\"currentColor\" aria-hidden=\"true\" aria-label=\"View this link\" width=\"20\" height=\"20\" viewBox=\"0 0 20 20\" slot=\"icon\"><path d=\"M11.8 2.8L10.8 3.8 16.2 9.3 1 9.3 1 10.7 16.2 10.7 10.8 16.2 11.8 17.2 19 10z\"></path></svg>\\n          \\n    \\n    </a>\\n  </div>\\n\\n      </div>\\n  <div class=\"ibm-grid-col-sm-4-4 ani-reveal ani-fadeInUp\" data-wow-delay=\".7s\">\\n      </div>\\n\\n          \\n        </div>\\n      </div>\\n\\n      <div class=\"ibm-grid-col-sm-4-1 ibm-grid-col-md-8-0 ibm-grid-col-lg-16-1\"></div>\\n\\n      <div class=\"ibm-grid-col-sm-4-4 ibm-grid-col-md-8-4 ibm-grid-col-lg-16-8 ibm-grid-col-xlg-16-8 ibm-grid-col-seamless ibm-duo-leadspace-large__media-full\">\\n              </div>\\n    </div>\\n  </section>\\n\\n\\n\\n\\n\\n  \\n\\n<main role=\"main\" aria-labelledby=\"ibm-pagetitle-h1\">\\n  <div id=\"ibm-pcon\">\\n    <div id=\"ibm-content\">\\n      <div id=\"ibm-content-body\" class=\"ibm-padding-top-0\">\\n        <div id=\"ibm-content-main\">\\n          \\n                    \\n          <div class=\"node__content\">\\n                                    \\n\\n\\n\\n\\n\\n\\n\\n  <section  role=\"article\" about=\"/in-en/node/3171770\" id=\"3171770\" class=\"ibm-duo-band ibm-duo-module-12a ibm-background-teal-10 band-gradient-overlay\" data-bg-lazy-load>\\n    \\n                      \\n\\n  \\n\\n\\n\\n\\n\\n<div class=\"ibm-grid-container ibm-duo-u--pt-4 ibm-duo-u--pb-4 \">\\n  <div class=\"ibm-grid-col-sm-4-4 ibm-grid-col-md-8-6 ibm-grid-col-lg-16-8 ibm-duo-module-12a__content\">\\n          <h2 class=\"ibm-duo-module-12a__headline bx--type-semibold bx--type-productive-heading-04 ibm-mb-0 ibm-pb-0 ibm-textcolor-gray-90\">\\n            <span >  The CEO&#039;s Guide to Generative AI</span>\\n\\n      </h2>\\n    \\n          <div class=\"ibm-duo-module-12a__subhead ibm-textcolor-gray-90\">\\n        <p>Want to modernize applications using Generative AI? First, learn three things every leader should know.</p>\\n      </div>\\n    \\n      </div>\\n\\n  \\n    <div class=\"ibm-grid-col-sm-4-0 ibm-grid-col-md-8-2 ibm-grid-col-lg-16-4\"></div>\\n          <div class=\"ibm-grid-col-sm-4-4 ibm-grid-col-md-8-4 ibm-grid-col-lg-16-4 ibm-duo-module-12a__cta ani-reveal ani-fadeInUp\">\\n                  \\n\\n        \\n  \\n  \\n  \\n\\n\\n\\n\\n        \\n  <div class=\\'ibm-duo-button-item\\'>\\n    <a  target=\"_self\" href=\"https://www.ibm.com/thought-leadership/institute-business-value/en-us/report/ceo-generative-ai/application-modernization?lnk=hpenca1\" class=\"ibm-btn-pri ibm-duo-btn-cta ibm-duo-u--link-icon\">\\n      Read the guide\\n      \\n    \\n        \\n\\n                      <svg focusable=\"false\" class=\"ibm-duo-u--link-icon--arrow-right\" preserveAspectRatio=\"xMidYMid meet\" xmlns=\"http://www.w3.org/2000/svg\" fill=\"currentColor\" aria-hidden=\"true\" aria-label=\"View this link\" width=\"20\" height=\"20\" viewBox=\"0 0 20 20\" slot=\"icon\"><path d=\"M11.8 2.8L10.8 3.8 16.2 9.3 1 9.3 1 10.7 16.2 10.7 10.8 16.2 11.8 17.2 19 10z\"></path></svg>\\n          \\n    \\n    </a>\\n  </div>\\n\\n              </div>\\n      </div>\\n\\n\\n              </section>\\n\\n\\n        \\n\\n\\n\\n\\n  <section  role=\"article\" about=\"/in-en/node/3222001\" id=\"3222001\" class=\"ibm-duo-band ibm-duo-module-10f ibm-duo-u--transparent-bleed ibm-background-white-core\" data-bg-lazy-load>\\n    <div class=\"ibm-grid-container ibm-duo-u--relative\">\\n      <span class=\"ibm-duo-band--horizontal-line ibm-duo-band--horizontal-line--100 ibm-border-gray-30 ani-reveal ani-fadeInUp\"></span>\\n\\n      <div class=\"ibm-grid-col-sm-4-4 ibm-grid-col-md-8-4 ibm-grid-col-lg-16-4 ibm-duo-u--pt-4\">\\n        \\n\\n  <div class=\"ibm-duo-heading__headline ibm-grid-col-sm-4-4 ibm-grid-col-md-8-6 ibm-grid-col-lg-16-8 ibm-grid-col-seamless ibm-mb-3 ani-reveal ani-fadeInUp\">\\n    <h2 class=\"bx--type-productive-heading-02 ibm-textcolor-gray-90 ibm-pb-0 ibm-mb-0\">\\n          <span > More ways to create with IBM</span>\\n\\n    </h2>\\n  </div>\\n\\n  <div class=\"ibm-duo-heading__subhead ibm-grid-col-sm-4-3 ibm-grid-col-md-8-8 ibm-grid-col-lg-16-12 ibm-grid-col-seamless ibm-mt-3 ibm-mb-3 ani-reveal ani-fadeInUp\">\\n    <p class=\"bx--type-body-short-02 ibm-textcolor-gray-70 ibm-mb-0 ibm-pb-0\">\\n          <span > We enable people, ideas and technologies to make the world work better through hybrid cloud and AI</span>\\n\\n    </p>\\n  </div>\\n\\n      </div>\\n\\n              <div class=\"ibm-grid-col-sm-4-4 ibm-grid-col-md-8-8 ibm-grid-col-lg-16-12\">\\n\\n                                \\n          <div class=\"ibm-grid-container ibm-border-gray-30 ibm-duo-module-10f__row ibm-duo-module-10f__count-3\" data-widget=\"setsameheight\" data-always=\"true\" data-items=\".ibm-duo-card__heading\">\\n            \\n              \\n              <div class=\"ibm-grid-col-sm-4-4 ibm-grid-col-md-8-4 ibm-grid-col-lg-16-5 ibm-grid-col-seamless ibm-duo-module-10f__item ibm-duo-u--border--bottom-1 ibm-border-gray-30 ani-reveal ani-fadeInUp\">\\n                    \\n    \\n \\n\\n\\n\\n\\n\\n\\n\\n\\n<div class=\"ibm-card ibm-duo-card ibm-duo-card-text ibm-card--noborder ibm-mb-0 ibm-duo-card--cta-yes\">\\n  \\n      <div class=\"ibm-grid-col-sm-4-4 ibm-grid-col-md-8-8 ibm-grid-col-lg-16-16 ibm-duo-card__asset\">\\n\\n      \\n              <figure class=\"ibm-card__image ibm-duo-card__image ibm-duo-u--ratio ibm-duo-u--ratio--sixteen-nine ibm-mb-3 ani-reveal ani-fadeInUp\">\\n                      \\n\\n  \\n        \\n\\n\\n\\n\\n  <a  data-widget=\"videoplayer\" data-videodisplay=\"overlay\" data-videotype=\"kaltura\" data-videoid=\"1_t4tolges\" data-showvideoduration=\"false\" data-overlayplayersize=\"xlarge\" href=\"//mediacenter.ibm.com/id/1_t4tolges\">\\n    \\n\\n<img loading=\"lazy\" src=\"//1.cms.s81c.com/sites/default/files/2023-04-05/CS_The_Modernize_Banking_Question_V1_30_mobile-frame-04-30_drupal.jpg\" alt=\"Financial worker at desk with six computer screens\"\\n        class=\"\"\\n  />\\n  </a>\\n\\n                            \\n\\n              <a class=\"v19-play-icon-gray-60 ibm-video-player-con ibm-video-placeholder ibm-widget-processed ibm-duo-play ibm-duo-play--absolute\" data-widget=\"videoplayer\" data-videodisplay=\"overlay\" data-overlayplayersize=\"xlarge\" data-showimageplaybutton=\"true\" data-videoid=\"1_t4tolges\" data-showvideoduration=\"false\" data-videotype=\"kaltura\" href=\"//mediacenter.ibm.com/id/1_t4tolges\" aria-label=\"\" data-kaltura-fallbackid=\"\" data-wow-delay=\".2s\">\\n      \\n          <span class=\"ibm-play-link\">\\n            <svg id=\"icon\" xmlns=\"http://www.w3.org/2000/svg\" width=\"32\" height=\"32\" viewBox=\"0 0 32 32\" aria-hidden=\"false\"  aria-label=\"Play this video\">\\n  <path d=\"M7,28a1,1,0,0,1-1-1V5a1,1,0,0,1,1.4819-.8763l20,11a1,1,0,0,1,0,1.7525l-20,11A1.0005,1.0005,0,0,1,7,28ZM8,6.6909V25.3088L24.9248,16Z\" transform=\"translate(0)\"/>\\n  <rect width=\"32\" height=\"32\" style=\"fill: none;\"/>\\n</svg>\\n      </span>\\n      </a>\\n\\n                                </figure>\\n          </div>\\n  \\n      <div class=\"ibm-grid-col-sm-4-3 ibm-grid-col-md-8-6 ibm-grid-col-lg-16-15 ibm-duo-card__desc\">\\n      <div class=\"bx--type-body-long-02 ibm-mb-0 ibm-textcolor-gray-70 ani-reveal ani-fadeInUp ibm-duo-u--body\">\\n        <p>Make analyzing data no big deal</p>\\n      </div>\\n    </div>\\n  \\n      <div class=\"ibm-grid-col-sm-4-3 ibm-grid-col-md-8-6 ibm-grid-col-lg-16-15 ibm-mt-3 ibm-duo-card__cta ibm-pb-0 ani-reveal ani-fadeInUp\">\\n              \\n\\n  \\n        \\n\\n\\n\\n\\n  \\n  \\n  <p class=\\'ibm-mb-0 ibm-duo-u--pr-2 ibm-pb-1\\'>\\n    <a  data-widget=\"videoplayer\" data-videodisplay=\"overlay\" data-videotype=\"kaltura\" data-videoid=\"1_t4tolges\" data-showvideoduration=\"false\" data-overlayplayersize=\"xlarge\" href=\"//mediacenter.ibm.com/id/1_t4tolges\" class=\"ibm-duo-u--link-icon ibm-textcolor-blue-60 ibm-duo-u--link-icon--rtl\">\\n      <span>Watch the video (00:30)</span>\\n      \\n            <svg xmlns=\"http://www.w3.org/2000/svg\" width=\"32\" height=\"32\" viewBox=\"0 0 32 32\" aria-hidden=\"true\" aria-label=\"Play this video\">\\n  <path d=\"M11,23a1,1,0,0,1-1-1V10a1,1,0,0,1,1.4473-.8945l12,6a1,1,0,0,1,0,1.789l-12,6A1.001,1.001,0,0,1,11,23Zm1-11.3821v8.7642L20.7642,16Z\"/>\\n  <path d=\"M16,4A12,12,0,1,1,4,16,12,12,0,0,1,16,4m0-2A14,14,0,1,0,30,16,14,14,0,0,0,16,2Z\"/>\\n  <rect width=\"32\" height=\"32\" style=\"fill: none;\"/>\\n</svg>\\n  \\n    </a>\\n  </p>\\n\\n\\n              \\n\\n        \\n  \\n  \\n  \\n\\n\\n\\n  \\n  \\n  <p class=\\'ibm-mb-0 ibm-duo-u--pr-2 ibm-pb-1\\'>\\n    <a  target=\"_self\" href=\"https://www.ibm.com/data-management?lnk=hpencm1\" class=\"ibm-duo-u--link-icon ibm-textcolor-blue-60 ibm-duo-u--link-icon--rtl\">\\n      <span>Explore data management</span>\\n      \\n    \\n        \\n\\n                      <svg focusable=\"false\" class=\"ibm-duo-u--link-icon--arrow-right\" preserveAspectRatio=\"xMidYMid meet\" xmlns=\"http://www.w3.org/2000/svg\" fill=\"currentColor\" aria-hidden=\"true\" aria-label=\"View this link\" width=\"20\" height=\"20\" viewBox=\"0 0 20 20\" slot=\"icon\"><path d=\"M11.8 2.8L10.8 3.8 16.2 9.3 1 9.3 1 10.7 16.2 10.7 10.8 16.2 11.8 17.2 19 10z\"></path></svg>\\n          \\n    \\n    </a>\\n  </p>\\n\\n\\n          </div>\\n  </div>\\n\\n\\n                </div>\\n            \\n              \\n              <div class=\"ibm-grid-col-sm-4-4 ibm-grid-col-md-8-4 ibm-grid-col-lg-16-5 ibm-grid-col-seamless ibm-duo-module-10f__item ibm-duo-u--border--bottom-1 ibm-border-gray-30 ani-reveal ani-fadeInUp\">\\n                    \\n    \\n \\n\\n\\n\\n\\n\\n\\n\\n\\n<div class=\"ibm-card ibm-duo-card ibm-duo-card-text ibm-card--noborder ibm-mb-0 ibm-duo-card--cta-yes\">\\n  \\n      <div class=\"ibm-grid-col-sm-4-4 ibm-grid-col-md-8-8 ibm-grid-col-lg-16-16 ibm-duo-card__asset\">\\n\\n      \\n              <figure class=\"ibm-card__image ibm-duo-card__image ibm-duo-u--ratio ibm-duo-u--ratio--sixteen-nine ibm-mb-3 ani-reveal ani-fadeInUp\">\\n                      \\n\\n  \\n        \\n\\n\\n\\n\\n  <a  data-widget=\"videoplayer\" data-videodisplay=\"overlay\" data-videotype=\"kaltura\" data-videoid=\"1_ohfv4i6v\" data-showvideoduration=\"false\" data-overlayplayersize=\"xlarge\" href=\"//mediacenter.ibm.com/id/1_ohfv4i6v\">\\n    \\n\\n<img loading=\"lazy\" src=\"//1.cms.s81c.com/sites/default/files/2023-04-05/CS_The_Sustainability_Building_Question_30_mobile-07-00_drupal.jpg\" alt=\"view of the sky between skyscrapers\"\\n        class=\"\"\\n  />\\n  </a>\\n\\n                            \\n\\n              <a class=\"v19-play-icon-gray-60 ibm-video-player-con ibm-video-placeholder ibm-widget-processed ibm-duo-play ibm-duo-play--absolute\" data-widget=\"videoplayer\" data-videodisplay=\"overlay\" data-overlayplayersize=\"xlarge\" data-showimageplaybutton=\"true\" data-videoid=\"1_ohfv4i6v\" data-showvideoduration=\"false\" data-videotype=\"kaltura\" href=\"//mediacenter.ibm.com/id/1_ohfv4i6v\" aria-label=\"\" data-kaltura-fallbackid=\"\" data-wow-delay=\".2s\">\\n      \\n          <span class=\"ibm-play-link\">\\n            <svg id=\"icon\" xmlns=\"http://www.w3.org/2000/svg\" width=\"32\" height=\"32\" viewBox=\"0 0 32 32\" aria-hidden=\"false\"  aria-label=\"Play this video\">\\n  <path d=\"M7,28a1,1,0,0,1-1-1V5a1,1,0,0,1,1.4819-.8763l20,11a1,1,0,0,1,0,1.7525l-20,11A1.0005,1.0005,0,0,1,7,28ZM8,6.6909V25.3088L24.9248,16Z\" transform=\"translate(0)\"/>\\n  <rect width=\"32\" height=\"32\" style=\"fill: none;\"/>\\n</svg>\\n      </span>\\n      </a>\\n\\n                                </figure>\\n          </div>\\n  \\n      <div class=\"ibm-grid-col-sm-4-3 ibm-grid-col-md-8-6 ibm-grid-col-lg-16-15 ibm-duo-card__desc\">\\n      <div class=\"bx--type-body-long-02 ibm-mb-0 ibm-textcolor-gray-70 ani-reveal ani-fadeInUp ibm-duo-u--body\">\\n        <p>Use data to save money, energy and the planet</p>\\n      </div>\\n    </div>\\n  \\n      <div class=\"ibm-grid-col-sm-4-3 ibm-grid-col-md-8-6 ibm-grid-col-lg-16-15 ibm-mt-3 ibm-duo-card__cta ibm-pb-0 ani-reveal ani-fadeInUp\">\\n              \\n\\n  \\n        \\n\\n\\n\\n\\n  \\n  \\n  <p class=\\'ibm-mb-0 ibm-duo-u--pr-2 ibm-pb-1\\'>\\n    <a  data-widget=\"videoplayer\" data-videodisplay=\"overlay\" data-videotype=\"kaltura\" data-videoid=\"1_ohfv4i6v\" data-showvideoduration=\"false\" data-overlayplayersize=\"xlarge\" href=\"//mediacenter.ibm.com/id/1_ohfv4i6v\" class=\"ibm-duo-u--link-icon ibm-textcolor-blue-60 ibm-duo-u--link-icon--rtl\">\\n      <span>Watch the video (00:30)</span>\\n      \\n            <svg xmlns=\"http://www.w3.org/2000/svg\" width=\"32\" height=\"32\" viewBox=\"0 0 32 32\" aria-hidden=\"true\" aria-label=\"Play this video\">\\n  <path d=\"M11,23a1,1,0,0,1-1-1V10a1,1,0,0,1,1.4473-.8945l12,6a1,1,0,0,1,0,1.789l-12,6A1.001,1.001,0,0,1,11,23Zm1-11.3821v8.7642L20.7642,16Z\"/>\\n  <path d=\"M16,4A12,12,0,1,1,4,16,12,12,0,0,1,16,4m0-2A14,14,0,1,0,30,16,14,14,0,0,0,16,2Z\"/>\\n  <rect width=\"32\" height=\"32\" style=\"fill: none;\"/>\\n</svg>\\n  \\n    </a>\\n  </p>\\n\\n\\n              \\n\\n        \\n  \\n  \\n  \\n\\n\\n\\n  \\n  \\n  <p class=\\'ibm-mb-0 ibm-duo-u--pr-2 ibm-pb-1\\'>\\n    <a  target=\"_self\" href=\"https://www.ibm.com/in-en/sustainability?lnk=hpencm2\" class=\"ibm-duo-u--link-icon ibm-textcolor-blue-60 ibm-duo-u--link-icon--rtl\">\\n      <span>See sustainability solutions</span>\\n      \\n    \\n        \\n\\n                      <svg focusable=\"false\" class=\"ibm-duo-u--link-icon--arrow-right\" preserveAspectRatio=\"xMidYMid meet\" xmlns=\"http://www.w3.org/2000/svg\" fill=\"currentColor\" aria-hidden=\"true\" aria-label=\"View this link\" width=\"20\" height=\"20\" viewBox=\"0 0 20 20\" slot=\"icon\"><path d=\"M11.8 2.8L10.8 3.8 16.2 9.3 1 9.3 1 10.7 16.2 10.7 10.8 16.2 11.8 17.2 19 10z\"></path></svg>\\n          \\n    \\n    </a>\\n  </p>\\n\\n\\n          </div>\\n  </div>\\n\\n\\n                </div>\\n            \\n              \\n              <div class=\"ibm-grid-col-sm-4-4 ibm-grid-col-md-8-4 ibm-grid-col-lg-16-5 ibm-grid-col-seamless ibm-duo-module-10f__item ibm-duo-u--border--bottom-1 ibm-border-gray-30 ani-reveal ani-fadeInUp\">\\n                    \\n    \\n \\n\\n\\n\\n\\n\\n\\n\\n\\n<div class=\"ibm-card ibm-duo-card ibm-duo-card-text ibm-card--noborder ibm-mb-0 ibm-duo-card--cta-yes\">\\n  \\n      <div class=\"ibm-grid-col-sm-4-4 ibm-grid-col-md-8-8 ibm-grid-col-lg-16-16 ibm-duo-card__asset\">\\n\\n      \\n              <figure class=\"ibm-card__image ibm-duo-card__image ibm-duo-u--ratio ibm-duo-u--ratio--sixteen-nine ibm-mb-3 ani-reveal ani-fadeInUp\">\\n                      \\n\\n  \\n        \\n\\n\\n\\n\\n  <a  data-widget=\"videoplayer\" data-videodisplay=\"overlay\" data-videotype=\"kaltura\" data-videoid=\"1_4f1czavh\" data-showvideoduration=\"false\" data-overlayplayersize=\"xlarge\" href=\"//mediacenter.ibm.com/id/1_4f1czavh\">\\n    \\n\\n<img loading=\"lazy\" src=\"//1.cms.s81c.com/sites/default/files/2023-04-05/CS_the_transform_masters_question_30_mobile_frame00_drupal_0.jpg\" alt=\"Close-up of golf ball on a green course\"\\n        class=\"\"\\n  />\\n  </a>\\n\\n                            \\n\\n              <a class=\"v19-play-icon-gray-60 ibm-video-player-con ibm-video-placeholder ibm-widget-processed ibm-duo-play ibm-duo-play--absolute\" data-widget=\"videoplayer\" data-videodisplay=\"overlay\" data-overlayplayersize=\"xlarge\" data-showimageplaybutton=\"true\" data-videoid=\"1_4f1czavh\" data-showvideoduration=\"false\" data-videotype=\"kaltura\" href=\"//mediacenter.ibm.com/id/1_4f1czavh\" aria-label=\"\" data-kaltura-fallbackid=\"\" data-wow-delay=\".2s\">\\n      \\n          <span class=\"ibm-play-link\">\\n            <svg id=\"icon\" xmlns=\"http://www.w3.org/2000/svg\" width=\"32\" height=\"32\" viewBox=\"0 0 32 32\" aria-hidden=\"false\"  aria-label=\"Play this video\">\\n  <path d=\"M7,28a1,1,0,0,1-1-1V5a1,1,0,0,1,1.4819-.8763l20,11a1,1,0,0,1,0,1.7525l-20,11A1.0005,1.0005,0,0,1,7,28ZM8,6.6909V25.3088L24.9248,16Z\" transform=\"translate(0)\"/>\\n  <rect width=\"32\" height=\"32\" style=\"fill: none;\"/>\\n</svg>\\n      </span>\\n      </a>\\n\\n                                </figure>\\n          </div>\\n  \\n      <div class=\"ibm-grid-col-sm-4-3 ibm-grid-col-md-8-6 ibm-grid-col-lg-16-15 ibm-duo-card__desc\">\\n      <div class=\"bx--type-body-long-02 ibm-mb-0 ibm-textcolor-gray-70 ani-reveal ani-fadeInUp ibm-duo-u--body\">\\n        <p>Transforming the fan experience</p>\\n      </div>\\n    </div>\\n  \\n      <div class=\"ibm-grid-col-sm-4-3 ibm-grid-col-md-8-6 ibm-grid-col-lg-16-15 ibm-mt-3 ibm-duo-card__cta ibm-pb-0 ani-reveal ani-fadeInUp\">\\n              \\n\\n  \\n        \\n\\n\\n\\n\\n  \\n  \\n  <p class=\\'ibm-mb-0 ibm-duo-u--pr-2 ibm-pb-1\\'>\\n    <a  data-widget=\"videoplayer\" data-videodisplay=\"overlay\" data-videotype=\"kaltura\" data-videoid=\"1_4f1czavh\" data-showvideoduration=\"false\" data-overlayplayersize=\"xlarge\" href=\"//mediacenter.ibm.com/id/1_4f1czavh\" class=\"ibm-duo-u--link-icon ibm-textcolor-blue-60 ibm-duo-u--link-icon--rtl\">\\n      <span>Watch the video (00:30) </span>\\n      \\n            <svg xmlns=\"http://www.w3.org/2000/svg\" width=\"32\" height=\"32\" viewBox=\"0 0 32 32\" aria-hidden=\"true\" aria-label=\"Play this video\">\\n  <path d=\"M11,23a1,1,0,0,1-1-1V10a1,1,0,0,1,1.4473-.8945l12,6a1,1,0,0,1,0,1.789l-12,6A1.001,1.001,0,0,1,11,23Zm1-11.3821v8.7642L20.7642,16Z\"/>\\n  <path d=\"M16,4A12,12,0,1,1,4,16,12,12,0,0,1,16,4m0-2A14,14,0,1,0,30,16,14,14,0,0,0,16,2Z\"/>\\n  <rect width=\"32\" height=\"32\" style=\"fill: none;\"/>\\n</svg>\\n  \\n    </a>\\n  </p>\\n\\n\\n              \\n\\n        \\n  \\n  \\n  \\n\\n\\n\\n  \\n  \\n  <p class=\\'ibm-mb-0 ibm-duo-u--pr-2 ibm-pb-1\\'>\\n    <a  target=\"_self\" href=\"https://www.ibm.com/consulting/?lnk=hpencm3\" class=\"ibm-duo-u--link-icon ibm-textcolor-blue-60 ibm-duo-u--link-icon--rtl\">\\n      <span>Personalize your experiences</span>\\n      \\n    \\n        \\n\\n                      <svg focusable=\"false\" class=\"ibm-duo-u--link-icon--arrow-right\" preserveAspectRatio=\"xMidYMid meet\" xmlns=\"http://www.w3.org/2000/svg\" fill=\"currentColor\" aria-hidden=\"true\" aria-label=\"View this link\" width=\"20\" height=\"20\" viewBox=\"0 0 20 20\" slot=\"icon\"><path d=\"M11.8 2.8L10.8 3.8 16.2 9.3 1 9.3 1 10.7 16.2 10.7 10.8 16.2 11.8 17.2 19 10z\"></path></svg>\\n          \\n    \\n    </a>\\n  </p>\\n\\n\\n          </div>\\n  </div>\\n\\n\\n                </div>\\n                        <div class=\" ibm-duo-u--border--hide-last-1 ibm-background-white-core\"></div>\\n          </div>\\n        </div>\\n          </div>\\n  </section>\\n\\n\\n  \\n  \\n\\n\\n\\n\\n<div  class=\"ibm-band ibm-background-white-core ibm-textcolor-default ibm-padding-top-2 ibm-padding-bottom-2\" id=\"3171812\">\\n        \\n    <div class=\"field field--name-field-band-interactive-component field--type-entity-reference field--label-hidden field__items\">\\n      <div class=\"field__item\">\\n<div role=\"article\" about=\"/in-en/node/3171810\" id=\"3171810\" class=\"node node--type-widget-wrapper node--view-mode-default\">\\n  \\n\\n<div data-link-type=\"product\" data-theme=\"WHITE\" data-full-width=\"false\" data-localecode=\"en-in\" data-palette=\"{&quot;overlay&quot;:[&quot;ibm-duo-u--overlay&quot;,&quot;ibm-duo-u--overlay--light&quot;],&quot;label&quot;:&quot;Cool Gray 10&quot;,&quot;classes&quot;:{&quot;headline_color&quot;:&quot;ibm-textcolor-gray-90&quot;,&quot;body_color&quot;:&quot;ibm-textcolor-gray-70&quot;,&quot;promo_bg_color&quot;:&quot;ibm-background-white-core&quot;,&quot;promo_hover_color&quot;:&quot;ibm-duo-card--hover-light&quot;,&quot;blocklink_hover_color&quot;:&quot;ibm-blocklink--hover-light&quot;,&quot;gradient_hover_color&quot;:&quot;ibm-duo-card--hover-gradient--gray-10&quot;,&quot;line_color&quot;:&quot;ibm-border-gray-30&quot;,&quot;btn_sec&quot;:&quot;ibm-btn-sec--blue&quot;,&quot;link_color&quot;:&quot;ibm-textcolor-blue-60&quot;,&quot;g2_crowd_text_color&quot;:&quot;ibm-textcolor-gray-90&quot;,&quot;g2_crowd_star_color&quot;:&quot;ibm-textcolor-yellow-30&quot;,&quot;bg_color&quot;:&quot;ibm-background-cool-gray-10&quot;},&quot;provider&quot;:&quot;ibm_duo&quot;,&quot;id&quot;:&quot;palette-grey-light&quot;}\" class=\"widget-instance\" id=\"widget-instance--product-explorer-main-offerings--791\"><div class=\"field field--name-type field--type-entity-reference field--label-hidden field__items\">\\n      <div class=\"field__item\"></div>\\n</div><div class=\"spinner\">\\n    <div class=\"double-bounce1\"></div>\\n    <div class=\"double-bounce2\"></div>\\n  </div>\\n</div>\\n\\n</div>\\n</div>\\n</div>\\n\\n  \\n    <div >\\n            \\n    </div>\\n      </div>\\n\\n\\n\\n\\n\\n\\n\\n\\n  <section  role=\"article\" about=\"/in-en/node/3171808\" id=\"3171808\" class=\"ibm-duo-band ibm-duo-module-8a ibm-background-gray-100\" data-bg-lazy-load>\\n                            <div class=\"ibm-duo-carousel-fullwidth__item\">\\n                \\n\\n\\n\\n\\n<div class=\"ibm-duo-band ibm-duo-module-8a ibm-duo-module-8a__item ibm-duo-leadspace-large ibm-background-gray-100\">\\n\\n  <div class=\"ibm-grid-container ibm-duo-module-8a__container\">\\n\\n          <div class=\"ibm-duo-module-8a__bg picturefill-background ani-reveal ani-fadeIn\" role=\"img\" aria-label=\"employees looking at the data on the laptop\">\\n        <div class=\"ibm-duo-u--overlay ibm-duo-u--overlay--dark\">\\n          <span data-src=\"//1.cms.s81c.com/sites/default/files/2023-06-27/leadspace%20%281%29.jpeg\"></span>\\n                    <span data-src=\"//1.cms.s81c.com/sites/default/files/2023-06-27/leadspace%20%281%29.jpeg\" data-media=\"(min-width: 672px)\"></span>\\n        </div>\\n      </div>\\n    \\n    <div class=\"ibm-grid-col-sm-4-4 ibm-grid-col-md-8-4 ibm-grid-col-lg-16-6 ibm-duo-module-8a__content\">\\n              <div class=\"ibm-grid-col-sm-4-3 ibm-grid-col-lg-16-12 ibm-grid-col-seamless ibm-duo-u--pb-4 ibm-duo-module-8a__headline ani-reveal ani-fadeInUp\">\\n          <h1 class=\"bx--type-expressive-heading-05 bx--type-light ibm-textcolor-gray-10 ibm-pb-0 ibm-mb-0\" data-wow-delay=\".2s\">\\n                <span > Achieving real-time visibility</span>\\n\\n          </h1>\\n        </div>\\n      \\n      <div class=\"ibm-duo-module-8a__subhead\">\\n                  <div class=\"ibm-grid-col-sm-4-3 ibm-grid-col-lg-16-10 ibm-grid-col-xlg-16-12 ibm-grid-col-seamless ani-reveal ani-fadeInUp\" data-wow-delay=\".4s\">\\n            <div class=\"ibm-type-e ibm-textcolor-gray-30 ibm-mb-3\"><p>Learn how IBM Instana helped Enento identify bugs much faster, lower existing latency and provide real-time visibility into every service request</p></div>\\n          </div>\\n        \\n                  <div class=\"ibm-btn-row ibm-button-link ibm-mt-4 ani-reveal ani-fadeInUp\" data-widget=\"setsameheight\" data-always=\"true\" data-items=\".ibm-duo-button-item\" data-wow-delay=\".5s\">\\n                          \\n\\n        \\n  \\n  \\n  \\n\\n\\n\\n\\n        \\n  <div class=\\'ibm-duo-button-item\\'>\\n    <a  target=\"_self\" href=\"https://www.ibm.com/case-studies/enento-group?lnk=hpencs1\" class=\"ibm-btn-pri ibm-duo-btn-cta ibm-duo-u--link-icon\">\\n      Read the story\\n      \\n    \\n        \\n\\n                      <svg focusable=\"false\" class=\"ibm-duo-u--link-icon--arrow-right\" preserveAspectRatio=\"xMidYMid meet\" xmlns=\"http://www.w3.org/2000/svg\" fill=\"currentColor\" aria-hidden=\"true\" aria-label=\"View this link\" width=\"20\" height=\"20\" viewBox=\"0 0 20 20\" slot=\"icon\"><path d=\"M11.8 2.8L10.8 3.8 16.2 9.3 1 9.3 1 10.7 16.2 10.7 10.8 16.2 11.8 17.2 19 10z\"></path></svg>\\n          \\n    \\n    </a>\\n  </div>\\n\\n                          \\n\\n        \\n  \\n  \\n  \\n\\n\\n\\n\\n        \\n  <div class=\\'ibm-duo-button-item\\'>\\n    <a  target=\"_self\" href=\"https://www.ibm.com/products/instana?lnk=hpencs2\" class=\"ibm-btn-sec ibm-duo-btn-cta ibm-duo-u--link-icon ibm-btn-sec--white\">\\n      Explore IBM Instana\\n      \\n    \\n        \\n\\n                      <svg focusable=\"false\" class=\"ibm-duo-u--link-icon--arrow-right\" preserveAspectRatio=\"xMidYMid meet\" xmlns=\"http://www.w3.org/2000/svg\" fill=\"currentColor\" aria-hidden=\"true\" aria-label=\"View this link\" width=\"20\" height=\"20\" viewBox=\"0 0 20 20\" slot=\"icon\"><path d=\"M11.8 2.8L10.8 3.8 16.2 9.3 1 9.3 1 10.7 16.2 10.7 10.8 16.2 11.8 17.2 19 10z\"></path></svg>\\n          \\n    \\n    </a>\\n  </div>\\n\\n                      </div>\\n          <div class=\"ibm-grid-col-sm-4-4 ani-reveal ani-fadeInUp\" data-wow-delay=\".6s\">\\n                      </div>\\n        \\n      </div>\\n    </div>\\n  </div>\\n</div>\\n\\n\\n            </div>\\n                    </section>\\n\\n\\n\\n\\n\\n\\n\\n  <section  role=\"article\" lang=\"en\" about=\"/en/node/3171814\" id=\"3171814\" class=\"ibm-duo-band ibm-duo-module-1a ibm-background-cool-gray-10\" data-bg-lazy-load>\\n      </section>\\n\\n\\n\\n\\n\\n\\n\\n\\n\\n\\n  <section  role=\"article\" about=\"/in-en/node/3171802\" id=\"3171802\" class=\"ibm-duo-band ibm-duo-module-19f ibm-pt-4 ibm-background-white-core\" data-bg-lazy-load>\\n    <div class=\"ibm-grid-container ibm-duo-module-19f__container\">\\n      <div class=\"ibm-grid-col-sm-4-4 ibm-grid-col-md-8-8 ibm-grid-col-lg-16-4 ibm-duo-module-19f__heading\">\\n                  \\n\\n  <div class=\"ibm-duo-heading__headline ibm-grid-col-sm-4-4 ibm-grid-col-md-8-6 ibm-grid-col-lg-16-8 ibm-grid-col-seamless ibm-mb-3 ani-reveal ani-fadeInUp\">\\n    <h2 class=\"bx--type-productive-heading-02 ibm-textcolor-gray-90 ibm-pb-0 ibm-mb-0\">\\n          <span > Consulting</span>\\n\\n    </h2>\\n  </div>\\n\\n\\n              </div>\\n\\n              <div class=\"ibm-grid-col-sm-4-4 ibm-grid-col-md-8-8 ibm-grid-col-lg-16-12\">\\n\\n          \\n          <div data-widget=\"dyntabs\" class=\"ibm-graphic-tabs ibm-graphic-tabs--duo ibm-pb-0 ibm-border-gray-30 ibm-textcolor-gray-90\" id=\"dyntabs-3171802\" data-band-id=\"3171802\">\\n\\n            <!-- Tabs: -->\\n            <div class=\"ibm-grid-container ibm-tab-section--container ibm-duo-hscroll--container\">\\n              <div class=\"ibm-tab-section ani-reveal ani-fadeInUp\" data-wow-delay=\".1s\">\\n                <ul class=\"ibm-tabs\" role=\"tablist\">\\n                                      <li class=\"ibm-textcolor-gray-90\">\\n                      <a class=\"tab-link ibm-textcolor-gray-90\" aria-selected=\"true\" role=\"tab\" href=\"#tab_3171780\">Services</a>\\n                    </li>\\n                                      <li class=\"ibm-textcolor-gray-90\">\\n                      <a class=\"tab-link ibm-textcolor-gray-90\" aria-selected=\"true\" role=\"tab\" href=\"#tab_3171784\">Strategy</a>\\n                    </li>\\n                                      <li class=\"ibm-textcolor-gray-90\">\\n                      <a class=\"tab-link ibm-textcolor-gray-90\" aria-selected=\"true\" role=\"tab\" href=\"#tab_3171788\">Experience</a>\\n                    </li>\\n                                      <li class=\"ibm-textcolor-gray-90\">\\n                      <a class=\"tab-link ibm-textcolor-gray-90\" aria-selected=\"true\" role=\"tab\" href=\"#tab_3171792\">Technology</a>\\n                    </li>\\n                                      <li class=\"ibm-textcolor-gray-90\">\\n                      <a class=\"tab-link ibm-textcolor-gray-90\" aria-selected=\"true\" role=\"tab\" href=\"#tab_3171796\">Operations</a>\\n                    </li>\\n                                      <li class=\"ibm-textcolor-gray-90\">\\n                      <a class=\"tab-link ibm-textcolor-gray-90\" aria-selected=\"true\" role=\"tab\" href=\"#tab_3171800\">Partners</a>\\n                    </li>\\n                                  </ul>\\n              </div>\\n            </div>\\n\\n            <!-- Tabs contents divs: -->\\n                          <div class=\"ibm-duo-module-19f--tab-content__wrapper\">\\n                \\n                                    <div class=\"ibm-grid-col-sm-4-4 ibm-grid-col-lg-16-16 ibm-duo-module-19f__item ibm-border-gray-30 ibm-duo-accordion-item ibm-tabs-content ibm-duo-accordion-item--initially-expanded\" id=\"tab_3171780\">\\n\\n                                                                <h3 class=\"ibm-duo-accordion-item__headline bx--type-productive-heading-03 ibm-mb-3 ibm-pb-0 ibm-duo-card__heading ani-reveal ani-fadeInUp ani-loaded\">\\n                        Services\\n                        <button class=\"ibm-duo-accordion-item__button\" type=\"button\" aria-expanded=\"false\">\\n                          <div class=\"ibm-access\">View Deliver impact faster </div>\\n                            <svg id=\"icon-chevron--down-537601615\" class=\"icon-chevron--down\" focusable=\"false\" width=\"15\" height=\"9\" xmlns=\"http://www.w3.org/2000/svg\" xmlns:xlink=\"http://www.w3.org/1999/xlink\" aria-hidden=\"true\" aria-label=\"View Deliver impact faster\">\\n  <defs><path id=\"icon-chevron--down-ref-652301984\" d=\"M288 83l-1.06 1.06-6.44-6.439-2.882 2.882-3.558 3.558L273 83l7.5-7.5z\"/></defs><use fill=\"currentColor\" xlink:href=\"#icon-chevron--down-ref-652301984\" transform=\"translate(-273 -75)\" fill-rule=\"evenodd\"/>\\n</svg>\\n                        </button>\\n                      </h3>\\n\\n                      \\n    \\n\\n\\n<div class=\"ibm-duo-accordion-item__content promo-split\">\\n  <div class=\"ibm-grid-container ibm-background-white-core promo-split__container promo-split__has-image\" data-wow-delay=\"0s\">\\n\\n          <div class=\"ibm-grid-col-sm-4-4 ibm-grid-col-lg-16-10 ibm-grid-seamless ibm-pb-3 promo-split__media\">\\n\\n                  <div class=\"ibm-duo-u--ratio--sixteen-nine\">\\n            \\n\\n<img loading=\"lazy\" src=\"//1.cms.s81c.com/sites/default/files/2023-05-07/pi-1906698.xl_.jpg\" alt=\"business meeting\"\\n        class=\"\"\\n  />\\n          </div>\\n\\n                  \\n      </div>\\n    \\n    \\n    <div class=\"ibm-grid-col-sm-4-4 ibm-grid-col-lg-16-6 ibm-grid-col-xlg-16-5 promo-split__content promo-split__mt promo-split__mb\">\\n              <div class=\"ibm-grid-col-sm-4-3 ibm-grid-col-seamless\">\\n          <h3 class=\"bx--type-expressive-heading-04 ibm-textcolor-gray-90 ibm-mb-3 ibm-pb-0 promo-split__headline\" data-wow-delay=\".3s\">\\n            Deliver impact faster \\n          </h3>\\n        </div>\\n      \\n              <div class=\"bx--type-body-long-02 ibm-textcolor-gray-70 ibm-mb-3 ibm-duo-u--body\" data-wow-delay=\".5s\">\\n          <p>Solve the toughest challenges with creative, new approaches and IBM experts by your side.</p>\\n        </div>\\n      \\n              <div class=\"ibm-mt-1 promo-split__cta\" data-wow-delay=\".7s\">\\n                      \\n\\n        \\n  \\n  \\n  \\n\\n\\n\\n  \\n  \\n  <p class=\\'ibm-mb-0 ibm-duo-u--pr-2 ibm-pb-1\\'>\\n    <a  target=\"_self\" href=\"https://www.ibm.com/consulting/?lnk=hpenco1\" class=\"ibm-duo-u--link-icon ibm-textcolor-blue-60 ibm-duo-u--link-icon--rtl\">\\n      <span>Learn about consulting services</span>\\n      \\n    \\n        \\n\\n                      <svg focusable=\"false\" class=\"ibm-duo-u--link-icon--arrow-right\" preserveAspectRatio=\"xMidYMid meet\" xmlns=\"http://www.w3.org/2000/svg\" fill=\"currentColor\" aria-hidden=\"true\" aria-label=\"View this link\" width=\"20\" height=\"20\" viewBox=\"0 0 20 20\" slot=\"icon\"><path d=\"M11.8 2.8L10.8 3.8 16.2 9.3 1 9.3 1 10.7 16.2 10.7 10.8 16.2 11.8 17.2 19 10z\"></path></svg>\\n          \\n    \\n    </a>\\n  </p>\\n\\n\\n                  </div>\\n          </div>\\n  </div>\\n</div>\\n                                      </div>\\n                \\n                                    <div class=\"ibm-grid-col-sm-4-4 ibm-grid-col-lg-16-16 ibm-duo-module-19f__item ibm-border-gray-30 ibm-duo-accordion-item ibm-tabs-content \" id=\"tab_3171784\">\\n\\n                                                                <h3 class=\"ibm-duo-accordion-item__headline bx--type-productive-heading-03 ibm-mb-3 ibm-pb-0 ibm-duo-card__heading ani-reveal ani-fadeInUp ani-loaded\">\\n                        Strategy\\n                        <button class=\"ibm-duo-accordion-item__button\" type=\"button\" aria-expanded=\"false\">\\n                          <div class=\"ibm-access\">View Reimagine work</div>\\n                            <svg id=\"icon-chevron--down-428333143\" class=\"icon-chevron--down\" focusable=\"false\" width=\"15\" height=\"9\" xmlns=\"http://www.w3.org/2000/svg\" xmlns:xlink=\"http://www.w3.org/1999/xlink\" aria-hidden=\"true\" aria-label=\"View Reimagine work\">\\n  <defs><path id=\"icon-chevron--down-ref-44968499\" d=\"M288 83l-1.06 1.06-6.44-6.439-2.882 2.882-3.558 3.558L273 83l7.5-7.5z\"/></defs><use fill=\"currentColor\" xlink:href=\"#icon-chevron--down-ref-44968499\" transform=\"translate(-273 -75)\" fill-rule=\"evenodd\"/>\\n</svg>\\n                        </button>\\n                      </h3>\\n\\n                      \\n    \\n\\n\\n<div class=\"ibm-duo-accordion-item__content promo-split\">\\n  <div class=\"ibm-grid-container ibm-background-white-core promo-split__container promo-split__has-image\" data-wow-delay=\"0s\">\\n\\n          <div class=\"ibm-grid-col-sm-4-4 ibm-grid-col-lg-16-10 ibm-grid-seamless ibm-pb-3 promo-split__media\">\\n\\n                  <div class=\"ibm-duo-u--ratio--sixteen-nine\">\\n            \\n\\n<img loading=\"lazy\" src=\"//1.cms.s81c.com/sites/default/files/2023-05-07/ebsf02532.xl_.jpg\" alt=\"Team members at work\"\\n        class=\"\"\\n  />\\n          </div>\\n\\n                  \\n      </div>\\n    \\n    \\n    <div class=\"ibm-grid-col-sm-4-4 ibm-grid-col-lg-16-6 ibm-grid-col-xlg-16-5 promo-split__content promo-split__mt promo-split__mb\">\\n              <div class=\"ibm-grid-col-sm-4-3 ibm-grid-col-seamless\">\\n          <h3 class=\"bx--type-expressive-heading-04 ibm-textcolor-gray-90 ibm-mb-3 ibm-pb-0 promo-split__headline\" data-wow-delay=\".3s\">\\n            Reimagine work\\n          </h3>\\n        </div>\\n      \\n              <div class=\"bx--type-body-long-02 ibm-textcolor-gray-70 ibm-mb-3 ibm-duo-u--body\" data-wow-delay=\".5s\">\\n          <p>Uncover the untapped potential inside your business to help it modernize and grow.</p>\\n        </div>\\n      \\n              <div class=\"ibm-mt-1 promo-split__cta\" data-wow-delay=\".7s\">\\n                      \\n\\n        \\n  \\n  \\n  \\n\\n\\n\\n  \\n  \\n  <p class=\\'ibm-mb-0 ibm-duo-u--pr-2 ibm-pb-1\\'>\\n    <a  target=\"_self\" href=\"https://www.ibm.com/consulting/strategy/?lnk=hpenco2\" class=\"ibm-duo-u--link-icon ibm-textcolor-blue-60 ibm-duo-u--link-icon--rtl\">\\n      <span>Learn about strategy consulting</span>\\n      \\n    \\n        \\n\\n                      <svg focusable=\"false\" class=\"ibm-duo-u--link-icon--arrow-right\" preserveAspectRatio=\"xMidYMid meet\" xmlns=\"http://www.w3.org/2000/svg\" fill=\"currentColor\" aria-hidden=\"true\" aria-label=\"View this link\" width=\"20\" height=\"20\" viewBox=\"0 0 20 20\" slot=\"icon\"><path d=\"M11.8 2.8L10.8 3.8 16.2 9.3 1 9.3 1 10.7 16.2 10.7 10.8 16.2 11.8 17.2 19 10z\"></path></svg>\\n          \\n    \\n    </a>\\n  </p>\\n\\n\\n                  </div>\\n          </div>\\n  </div>\\n</div>\\n                                      </div>\\n                \\n                                    <div class=\"ibm-grid-col-sm-4-4 ibm-grid-col-lg-16-16 ibm-duo-module-19f__item ibm-border-gray-30 ibm-duo-accordion-item ibm-tabs-content \" id=\"tab_3171788\">\\n\\n                                                                <h3 class=\"ibm-duo-accordion-item__headline bx--type-productive-heading-03 ibm-mb-3 ibm-pb-0 ibm-duo-card__heading ani-reveal ani-fadeInUp ani-loaded\">\\n                        Experience\\n                        <button class=\"ibm-duo-accordion-item__button\" type=\"button\" aria-expanded=\"false\">\\n                          <div class=\"ibm-access\">View Upgrade customer experiences </div>\\n                            <svg id=\"icon-chevron--down-251815187\" class=\"icon-chevron--down\" focusable=\"false\" width=\"15\" height=\"9\" xmlns=\"http://www.w3.org/2000/svg\" xmlns:xlink=\"http://www.w3.org/1999/xlink\" aria-hidden=\"true\" aria-label=\"View Upgrade customer experiences\">\\n  <defs><path id=\"icon-chevron--down-ref-312122955\" d=\"M288 83l-1.06 1.06-6.44-6.439-2.882 2.882-3.558 3.558L273 83l7.5-7.5z\"/></defs><use fill=\"currentColor\" xlink:href=\"#icon-chevron--down-ref-312122955\" transform=\"translate(-273 -75)\" fill-rule=\"evenodd\"/>\\n</svg>\\n                        </button>\\n                      </h3>\\n\\n                      \\n    \\n\\n\\n<div class=\"ibm-duo-accordion-item__content promo-split\">\\n  <div class=\"ibm-grid-container ibm-background-white-core promo-split__container promo-split__has-image\" data-wow-delay=\"0s\">\\n\\n          <div class=\"ibm-grid-col-sm-4-4 ibm-grid-col-lg-16-10 ibm-grid-seamless ibm-pb-3 promo-split__media\">\\n\\n                  <div class=\"ibm-duo-u--ratio--sixteen-nine\">\\n            \\n\\n<img loading=\"lazy\" src=\"//1.cms.s81c.com/sites/default/files/2023-05-07/_l7a6081.xl_.jpg\" alt=\"Woman working on laptop\"\\n        class=\"\"\\n  />\\n          </div>\\n\\n                  \\n      </div>\\n    \\n    \\n    <div class=\"ibm-grid-col-sm-4-4 ibm-grid-col-lg-16-6 ibm-grid-col-xlg-16-5 promo-split__content promo-split__mt promo-split__mb\">\\n              <div class=\"ibm-grid-col-sm-4-3 ibm-grid-col-seamless\">\\n          <h3 class=\"bx--type-expressive-heading-04 ibm-textcolor-gray-90 ibm-mb-3 ibm-pb-0 promo-split__headline\" data-wow-delay=\".3s\">\\n            Upgrade customer experiences \\n          </h3>\\n        </div>\\n      \\n              <div class=\"bx--type-body-long-02 ibm-textcolor-gray-70 ibm-mb-3 ibm-duo-u--body\" data-wow-delay=\".5s\">\\n          <p>With IBM iX®, take a design-led, data-driven approach to experience transformation.</p>\\n        </div>\\n      \\n              <div class=\"ibm-mt-1 promo-split__cta\" data-wow-delay=\".7s\">\\n                      \\n\\n        \\n  \\n  \\n  \\n\\n\\n\\n  \\n  \\n  <p class=\\'ibm-mb-0 ibm-duo-u--pr-2 ibm-pb-1\\'>\\n    <a  target=\"_self\" href=\"https://www.ibm.com/consulting/ibmix?lnk=flathl\" class=\"ibm-duo-u--link-icon ibm-textcolor-blue-60 ibm-duo-u--link-icon--rtl\">\\n      <span>Learn about experience design</span>\\n      \\n    \\n        \\n\\n                      <svg focusable=\"false\" class=\"ibm-duo-u--link-icon--arrow-right\" preserveAspectRatio=\"xMidYMid meet\" xmlns=\"http://www.w3.org/2000/svg\" fill=\"currentColor\" aria-hidden=\"true\" aria-label=\"View this link\" width=\"20\" height=\"20\" viewBox=\"0 0 20 20\" slot=\"icon\"><path d=\"M11.8 2.8L10.8 3.8 16.2 9.3 1 9.3 1 10.7 16.2 10.7 10.8 16.2 11.8 17.2 19 10z\"></path></svg>\\n          \\n    \\n    </a>\\n  </p>\\n\\n\\n                  </div>\\n          </div>\\n  </div>\\n</div>\\n                                      </div>\\n                \\n                                    <div class=\"ibm-grid-col-sm-4-4 ibm-grid-col-lg-16-16 ibm-duo-module-19f__item ibm-border-gray-30 ibm-duo-accordion-item ibm-tabs-content \" id=\"tab_3171792\">\\n\\n                                                                <h3 class=\"ibm-duo-accordion-item__headline bx--type-productive-heading-03 ibm-mb-3 ibm-pb-0 ibm-duo-card__heading ani-reveal ani-fadeInUp ani-loaded\">\\n                        Technology\\n                        <button class=\"ibm-duo-accordion-item__button\" type=\"button\" aria-expanded=\"false\">\\n                          <div class=\"ibm-access\">View Unite your strategy</div>\\n                            <svg id=\"icon-chevron--down-566246120\" class=\"icon-chevron--down\" focusable=\"false\" width=\"15\" height=\"9\" xmlns=\"http://www.w3.org/2000/svg\" xmlns:xlink=\"http://www.w3.org/1999/xlink\" aria-hidden=\"true\" aria-label=\"View Unite your strategy\">\\n  <defs><path id=\"icon-chevron--down-ref-748388668\" d=\"M288 83l-1.06 1.06-6.44-6.439-2.882 2.882-3.558 3.558L273 83l7.5-7.5z\"/></defs><use fill=\"currentColor\" xlink:href=\"#icon-chevron--down-ref-748388668\" transform=\"translate(-273 -75)\" fill-rule=\"evenodd\"/>\\n</svg>\\n                        </button>\\n                      </h3>\\n\\n                      \\n    \\n\\n\\n<div class=\"ibm-duo-accordion-item__content promo-split\">\\n  <div class=\"ibm-grid-container ibm-background-white-core promo-split__container promo-split__has-image\" data-wow-delay=\"0s\">\\n\\n          <div class=\"ibm-grid-col-sm-4-4 ibm-grid-col-lg-16-10 ibm-grid-seamless ibm-pb-3 promo-split__media\">\\n\\n                  <div class=\"ibm-duo-u--ratio--sixteen-nine\">\\n            \\n\\n<img loading=\"lazy\" src=\"//1.cms.s81c.com/sites/default/files/2022-11-16/XLG%20-%20IBM%20Consulting%20-%20Technology.jpg\" alt=\"Cloud developer with red sweater coding at desk\"\\n        class=\"\"\\n  />\\n          </div>\\n\\n                  \\n      </div>\\n    \\n    \\n    <div class=\"ibm-grid-col-sm-4-4 ibm-grid-col-lg-16-6 ibm-grid-col-xlg-16-5 promo-split__content promo-split__mt promo-split__mb\">\\n              <div class=\"ibm-grid-col-sm-4-3 ibm-grid-col-seamless\">\\n          <h3 class=\"bx--type-expressive-heading-04 ibm-textcolor-gray-90 ibm-mb-3 ibm-pb-0 promo-split__headline\" data-wow-delay=\".3s\">\\n            Unite your strategy\\n          </h3>\\n        </div>\\n      \\n              <div class=\"bx--type-body-long-02 ibm-textcolor-gray-70 ibm-mb-3 ibm-duo-u--body\" data-wow-delay=\".5s\">\\n          <p>Apply modernization that simplifies technology management and reduces costs.</p>\\n        </div>\\n      \\n              <div class=\"ibm-mt-1 promo-split__cta\" data-wow-delay=\".7s\">\\n                      \\n\\n        \\n  \\n  \\n  \\n\\n\\n\\n  \\n  \\n  <p class=\\'ibm-mb-0 ibm-duo-u--pr-2 ibm-pb-1\\'>\\n    <a  target=\"_self\" href=\"https://www.ibm.com/consulting/technology/?lnk=hpenco4\" class=\"ibm-duo-u--link-icon ibm-textcolor-blue-60 ibm-duo-u--link-icon--rtl\">\\n      <span>Learn about technology consulting</span>\\n      \\n    \\n        \\n\\n                      <svg focusable=\"false\" class=\"ibm-duo-u--link-icon--arrow-right\" preserveAspectRatio=\"xMidYMid meet\" xmlns=\"http://www.w3.org/2000/svg\" fill=\"currentColor\" aria-hidden=\"true\" aria-label=\"View this link\" width=\"20\" height=\"20\" viewBox=\"0 0 20 20\" slot=\"icon\"><path d=\"M11.8 2.8L10.8 3.8 16.2 9.3 1 9.3 1 10.7 16.2 10.7 10.8 16.2 11.8 17.2 19 10z\"></path></svg>\\n          \\n    \\n    </a>\\n  </p>\\n\\n\\n                  </div>\\n          </div>\\n  </div>\\n</div>\\n                                      </div>\\n                \\n                                    <div class=\"ibm-grid-col-sm-4-4 ibm-grid-col-lg-16-16 ibm-duo-module-19f__item ibm-border-gray-30 ibm-duo-accordion-item ibm-tabs-content \" id=\"tab_3171796\">\\n\\n                                                                <h3 class=\"ibm-duo-accordion-item__headline bx--type-productive-heading-03 ibm-mb-3 ibm-pb-0 ibm-duo-card__heading ani-reveal ani-fadeInUp ani-loaded\">\\n                        Operations\\n                        <button class=\"ibm-duo-accordion-item__button\" type=\"button\" aria-expanded=\"false\">\\n                          <div class=\"ibm-access\">View Deliver business outcomes</div>\\n                            <svg id=\"icon-chevron--down-165838938\" class=\"icon-chevron--down\" focusable=\"false\" width=\"15\" height=\"9\" xmlns=\"http://www.w3.org/2000/svg\" xmlns:xlink=\"http://www.w3.org/1999/xlink\" aria-hidden=\"true\" aria-label=\"View Deliver business outcomes\">\\n  <defs><path id=\"icon-chevron--down-ref-1847115253\" d=\"M288 83l-1.06 1.06-6.44-6.439-2.882 2.882-3.558 3.558L273 83l7.5-7.5z\"/></defs><use fill=\"currentColor\" xlink:href=\"#icon-chevron--down-ref-1847115253\" transform=\"translate(-273 -75)\" fill-rule=\"evenodd\"/>\\n</svg>\\n                        </button>\\n                      </h3>\\n\\n                      \\n    \\n\\n\\n<div class=\"ibm-duo-accordion-item__content promo-split\">\\n  <div class=\"ibm-grid-container ibm-background-white-core promo-split__container promo-split__has-image\" data-wow-delay=\"0s\">\\n\\n          <div class=\"ibm-grid-col-sm-4-4 ibm-grid-col-lg-16-10 ibm-grid-seamless ibm-pb-3 promo-split__media\">\\n\\n                  <div class=\"ibm-duo-u--ratio--sixteen-nine\">\\n            \\n\\n<img loading=\"lazy\" src=\"//1.cms.s81c.com/sites/default/files/2022-11-16/XLG%20-%20IBM%20Consulting%20-%20Operations.jpg\" alt=\"Aerial view of automated conveyer belt and machinery at work\"\\n        class=\"\"\\n  />\\n          </div>\\n\\n                  \\n      </div>\\n    \\n    \\n    <div class=\"ibm-grid-col-sm-4-4 ibm-grid-col-lg-16-6 ibm-grid-col-xlg-16-5 promo-split__content promo-split__mt promo-split__mb\">\\n              <div class=\"ibm-grid-col-sm-4-3 ibm-grid-col-seamless\">\\n          <h3 class=\"bx--type-expressive-heading-04 ibm-textcolor-gray-90 ibm-mb-3 ibm-pb-0 promo-split__headline\" data-wow-delay=\".3s\">\\n            Deliver business outcomes\\n          </h3>\\n        </div>\\n      \\n              <div class=\"bx--type-body-long-02 ibm-textcolor-gray-70 ibm-mb-3 ibm-duo-u--body\" data-wow-delay=\".5s\">\\n          <p>Transform business operations at speed and scale for growth, resilience and competitive advantage.</p>\\n        </div>\\n      \\n              <div class=\"ibm-mt-1 promo-split__cta\" data-wow-delay=\".7s\">\\n                      \\n\\n        \\n  \\n  \\n  \\n\\n\\n\\n  \\n  \\n  <p class=\\'ibm-mb-0 ibm-duo-u--pr-2 ibm-pb-1\\'>\\n    <a  target=\"_self\" href=\"https://www.ibm.com/services/operations-consulting?lnk=flathl\" class=\"ibm-duo-u--link-icon ibm-textcolor-blue-60 ibm-duo-u--link-icon--rtl\">\\n      <span>Learn about operations consulting</span>\\n      \\n    \\n        \\n\\n                      <svg focusable=\"false\" class=\"ibm-duo-u--link-icon--arrow-right\" preserveAspectRatio=\"xMidYMid meet\" xmlns=\"http://www.w3.org/2000/svg\" fill=\"currentColor\" aria-hidden=\"true\" aria-label=\"View this link\" width=\"20\" height=\"20\" viewBox=\"0 0 20 20\" slot=\"icon\"><path d=\"M11.8 2.8L10.8 3.8 16.2 9.3 1 9.3 1 10.7 16.2 10.7 10.8 16.2 11.8 17.2 19 10z\"></path></svg>\\n          \\n    \\n    </a>\\n  </p>\\n\\n\\n                  </div>\\n          </div>\\n  </div>\\n</div>\\n                                      </div>\\n                \\n                                    <div class=\"ibm-grid-col-sm-4-4 ibm-grid-col-lg-16-16 ibm-duo-module-19f__item ibm-border-gray-30 ibm-duo-accordion-item ibm-tabs-content \" id=\"tab_3171800\">\\n\\n                                                                <h3 class=\"ibm-duo-accordion-item__headline bx--type-productive-heading-03 ibm-mb-3 ibm-pb-0 ibm-duo-card__heading ani-reveal ani-fadeInUp ani-loaded\">\\n                        Partners\\n                        <button class=\"ibm-duo-accordion-item__button\" type=\"button\" aria-expanded=\"false\">\\n                          <div class=\"ibm-access\">View Create something</div>\\n                            <svg id=\"icon-chevron--down-685770364\" class=\"icon-chevron--down\" focusable=\"false\" width=\"15\" height=\"9\" xmlns=\"http://www.w3.org/2000/svg\" xmlns:xlink=\"http://www.w3.org/1999/xlink\" aria-hidden=\"true\" aria-label=\"View Create something\">\\n  <defs><path id=\"icon-chevron--down-ref-906286530\" d=\"M288 83l-1.06 1.06-6.44-6.439-2.882 2.882-3.558 3.558L273 83l7.5-7.5z\"/></defs><use fill=\"currentColor\" xlink:href=\"#icon-chevron--down-ref-906286530\" transform=\"translate(-273 -75)\" fill-rule=\"evenodd\"/>\\n</svg>\\n                        </button>\\n                      </h3>\\n\\n                      \\n    \\n\\n\\n<div class=\"ibm-duo-accordion-item__content promo-split\">\\n  <div class=\"ibm-grid-container ibm-background-white-core promo-split__container promo-split__has-image\" data-wow-delay=\"0s\">\\n\\n          <div class=\"ibm-grid-col-sm-4-4 ibm-grid-col-lg-16-10 ibm-grid-seamless ibm-pb-3 promo-split__media\">\\n\\n                  <div class=\"ibm-duo-u--ratio--sixteen-nine\">\\n            \\n\\n<img loading=\"lazy\" src=\"//1.cms.s81c.com/sites/default/files/2022-11-16/XLG%20-%20IBM%20Consulting%20-%20Partners.jpg\" alt=\"Overhead view of partners collaborating on design with laptops and coffee\"\\n        class=\"\"\\n  />\\n          </div>\\n\\n                  \\n      </div>\\n    \\n    \\n    <div class=\"ibm-grid-col-sm-4-4 ibm-grid-col-lg-16-6 ibm-grid-col-xlg-16-5 promo-split__content promo-split__mt promo-split__mb\">\\n              <div class=\"ibm-grid-col-sm-4-3 ibm-grid-col-seamless\">\\n          <h3 class=\"bx--type-expressive-heading-04 ibm-textcolor-gray-90 ibm-mb-3 ibm-pb-0 promo-split__headline\" data-wow-delay=\".3s\">\\n            Create something\\n          </h3>\\n        </div>\\n      \\n              <div class=\"bx--type-body-long-02 ibm-textcolor-gray-70 ibm-mb-3 ibm-duo-u--body\" data-wow-delay=\".5s\">\\n          <p>Partner with platform and infrastructure leaders to build cost-effective, open ecosystems that enable innovation.</p>\\n        </div>\\n      \\n              <div class=\"ibm-mt-1 promo-split__cta\" data-wow-delay=\".7s\">\\n                      \\n\\n        \\n  \\n  \\n  \\n\\n\\n\\n  \\n  \\n  <p class=\\'ibm-mb-0 ibm-duo-u--pr-2 ibm-pb-1\\'>\\n    <a  target=\"_self\" href=\"/strategic-partnerships?lnk=hpenco6\" class=\"ibm-duo-u--link-icon ibm-textcolor-blue-60 ibm-duo-u--link-icon--rtl\">\\n      <span>Learn about strategic partnerships</span>\\n      \\n    \\n        \\n\\n                      <svg focusable=\"false\" class=\"ibm-duo-u--link-icon--arrow-right\" preserveAspectRatio=\"xMidYMid meet\" xmlns=\"http://www.w3.org/2000/svg\" fill=\"currentColor\" aria-hidden=\"true\" aria-label=\"View this link\" width=\"20\" height=\"20\" viewBox=\"0 0 20 20\" slot=\"icon\"><path d=\"M11.8 2.8L10.8 3.8 16.2 9.3 1 9.3 1 10.7 16.2 10.7 10.8 16.2 11.8 17.2 19 10z\"></path></svg>\\n          \\n    \\n    </a>\\n  </p>\\n\\n\\n                  </div>\\n          </div>\\n  </div>\\n</div>\\n                                      </div>\\n                              </div>\\n                      <div>\\n        </div>\\n          </div>\\n  </section>\\n\\n\\n\\n\\n\\n\\n\\n\\n\\n  <section  role=\"article\" about=\"/in-en/node/3171834\" id=\"3171834\" class=\"ibm-duo-band ibm-duo-module-8a ibm-background-cool-gray-10\" data-bg-lazy-load>\\n                            <div class=\"ibm-duo-carousel-fullwidth__item\">\\n                \\n\\n\\n\\n\\n<div class=\"ibm-duo-band ibm-duo-module-8a ibm-duo-module-8a__item ibm-duo-leadspace-large ibm-background-cool-gray-10\">\\n\\n  <div class=\"ibm-grid-container ibm-duo-module-8a__container\">\\n\\n          <div class=\"ibm-duo-module-8a__bg picturefill-background ani-reveal ani-fadeIn\" role=\"img\" aria-label=\"watsonx\">\\n        <div class=\"ibm-duo-u--overlay ibm-duo-u--overlay--light\">\\n          <span data-src=\"//1.cms.s81c.com/sites/default/files/2023-07-25/watsonx-leadspace.png\"></span>\\n                    <span data-src=\"//1.cms.s81c.com/sites/default/files/2023-07-25/watsonx-leadspace.png\" data-media=\"(min-width: 672px)\"></span>\\n        </div>\\n      </div>\\n    \\n    <div class=\"ibm-grid-col-sm-4-4 ibm-grid-col-md-8-4 ibm-grid-col-lg-16-6 ibm-duo-module-8a__content\">\\n              <div class=\"ibm-grid-col-sm-4-3 ibm-grid-col-lg-16-12 ibm-grid-col-seamless ibm-duo-u--pb-4 ibm-duo-module-8a__headline ani-reveal ani-fadeInUp\">\\n          <h1 class=\"bx--type-expressive-heading-05 bx--type-light ibm-textcolor-gray-90 ibm-pb-0 ibm-mb-0\" data-wow-delay=\".2s\">\\n                <span > Discover the possibilities of AI with watsonx</span>\\n\\n          </h1>\\n        </div>\\n      \\n      <div class=\"ibm-duo-module-8a__subhead\">\\n                  <div class=\"ibm-grid-col-sm-4-3 ibm-grid-col-lg-16-10 ibm-grid-col-xlg-16-12 ibm-grid-col-seamless ani-reveal ani-fadeInUp\" data-wow-delay=\".4s\">\\n            <div class=\"ibm-type-e ibm-textcolor-gray-70 ibm-mb-3\"><p>IBM’s built-for-business AI and data platform is now available for free trial</p></div>\\n          </div>\\n        \\n                  <div class=\"ibm-btn-row ibm-button-link ibm-mt-4 ani-reveal ani-fadeInUp\" data-widget=\"setsameheight\" data-always=\"true\" data-items=\".ibm-duo-button-item\" data-wow-delay=\".5s\">\\n                          \\n\\n        \\n  \\n  \\n  \\n\\n\\n\\n\\n        \\n  <div class=\\'ibm-duo-button-item\\'>\\n    <a  target=\"_self\" href=\"http://www.ibm.com/watsonx?lnk=hpenf2\" class=\"ibm-btn-pri ibm-duo-btn-cta ibm-duo-u--link-icon\">\\n      Take a tour\\n      \\n    \\n        \\n\\n                      <svg focusable=\"false\" class=\"ibm-duo-u--link-icon--arrow-right\" preserveAspectRatio=\"xMidYMid meet\" xmlns=\"http://www.w3.org/2000/svg\" fill=\"currentColor\" aria-hidden=\"true\" aria-label=\"View this link\" width=\"20\" height=\"20\" viewBox=\"0 0 20 20\" slot=\"icon\"><path d=\"M11.8 2.8L10.8 3.8 16.2 9.3 1 9.3 1 10.7 16.2 10.7 10.8 16.2 11.8 17.2 19 10z\"></path></svg>\\n          \\n    \\n    </a>\\n  </div>\\n\\n                      </div>\\n          <div class=\"ibm-grid-col-sm-4-4 ani-reveal ani-fadeInUp\" data-wow-delay=\".6s\">\\n                      </div>\\n        \\n      </div>\\n    </div>\\n  </div>\\n</div>\\n\\n\\n            </div>\\n                    </section>\\n\\n\\n\\n\\n\\n\\n\\n  <section  role=\"article\" about=\"/in-en/node/3171828\" id=\"3171828\" class=\"ibm-duo-band ibm-duo-module-10f ibm-duo-u--transparent-bleed ibm-background-white-core\" data-bg-lazy-load>\\n    <div class=\"ibm-grid-container ibm-duo-u--relative\">\\n      <span class=\"ibm-duo-band--horizontal-line ibm-duo-band--horizontal-line--100 ibm-border-gray-30 ani-reveal ani-fadeInUp\"></span>\\n\\n      <div class=\"ibm-grid-col-sm-4-4 ibm-grid-col-md-8-4 ibm-grid-col-lg-16-4 ibm-duo-u--pt-4\">\\n        \\n\\n  <div class=\"ibm-duo-heading__headline ibm-grid-col-sm-4-4 ibm-grid-col-md-8-6 ibm-grid-col-lg-16-8 ibm-grid-col-seamless ibm-mb-3 ani-reveal ani-fadeInUp\">\\n    <h2 class=\"bx--type-productive-heading-02 ibm-textcolor-gray-90 ibm-pb-0 ibm-mb-0\">\\n          <span > Inside IBM</span>\\n\\n    </h2>\\n  </div>\\n\\n\\n      </div>\\n\\n              <div class=\"ibm-grid-col-sm-4-4 ibm-grid-col-md-8-8 ibm-grid-col-lg-16-12\">\\n\\n                                \\n          <div class=\"ibm-grid-container ibm-border-gray-30 ibm-duo-module-10f__row ibm-duo-module-10f__count-3\" data-widget=\"setsameheight\" data-always=\"true\" data-items=\".ibm-duo-card__heading\">\\n            \\n              \\n              <div class=\"ibm-grid-col-sm-4-4 ibm-grid-col-md-8-4 ibm-grid-col-lg-16-5 ibm-grid-col-seamless ibm-duo-module-10f__item ibm-duo-u--border--bottom-1 ibm-border-gray-30 ani-reveal ani-fadeInUp\">\\n                    \\n\\n \\n\\n\\n\\n\\n\\n\\n\\n\\n<div class=\"ibm-card ibm-duo-card ibm-duo-card-text ibm-card--noborder ibm-mb-0 ibm-duo-card--cta-yes\">\\n      <div class=\"ibm-grid-col-sm-4-3 ibm-grid-col-md-8-6 ibm-grid-col-lg-16-15 ibm-duo-card__title\">\\n      <h3 class=\"bx--type-expressive-heading-04 ibm-mb-3 ibm-pb-0 ibm-duo-card__heading ibm-textcolor-gray-90 ani-reveal ani-fadeInUp\">\\n            <span > IBM Careers</span>\\n\\n      </h3>\\n    </div>\\n  \\n      <div class=\"ibm-grid-col-sm-4-4 ibm-grid-col-md-8-8 ibm-grid-col-lg-16-16 ibm-duo-card__asset\">\\n\\n      \\n              <figure class=\"ibm-card__image ibm-duo-card__image ibm-duo-u--ratio ibm-duo-u--ratio--sixteen-nine ibm-mb-3 ani-reveal ani-fadeInUp\">\\n                      \\n\\n        \\n  \\n  \\n  \\n\\n\\n\\n  <a  target=\"_self\" href=\"https://www.ibm.com/careers/in-en/?lnk=flatitem\">\\n    \\n\\n<img loading=\"lazy\" src=\"//1.cms.s81c.com/sites/default/files/2022-11-16/XLG%20-%20Inside%20IBM%20-%20IBM%20Careers.jpg\" alt=\"IBM employee on campus\"\\n        class=\"\"\\n  />\\n  </a>\\n\\n                              </figure>\\n          </div>\\n  \\n      <div class=\"ibm-grid-col-sm-4-3 ibm-grid-col-md-8-6 ibm-grid-col-lg-16-15 ibm-duo-card__desc\">\\n      <div class=\"bx--type-body-long-02 ibm-mb-0 ibm-textcolor-gray-70 ani-reveal ani-fadeInUp ibm-duo-u--body\">\\n        <p>Apply your skills to improve business, society and the human condition. Learn what opportunities exist in our talent network.</p>\\n      </div>\\n    </div>\\n  \\n      <div class=\"ibm-grid-col-sm-4-3 ibm-grid-col-md-8-6 ibm-grid-col-lg-16-15 ibm-mt-3 ibm-duo-card__cta ibm-pb-0 ani-reveal ani-fadeInUp\">\\n              \\n\\n        \\n  \\n  \\n  \\n\\n\\n\\n  \\n  \\n  <p class=\\'ibm-mb-0 ibm-duo-u--pr-2 ibm-pb-1\\'>\\n    <a  target=\"_self\" href=\"https://www.ibm.com/careers/in-en/?lnk=flatitem\" class=\"ibm-duo-u--link-icon ibm-textcolor-blue-60 ibm-duo-u--link-icon--rtl\">\\n      <span>Explore IBM careers</span>\\n      \\n    \\n        \\n\\n                      <svg focusable=\"false\" class=\"ibm-duo-u--link-icon--arrow-right\" preserveAspectRatio=\"xMidYMid meet\" xmlns=\"http://www.w3.org/2000/svg\" fill=\"currentColor\" aria-hidden=\"true\" aria-label=\"View this link\" width=\"20\" height=\"20\" viewBox=\"0 0 20 20\" slot=\"icon\"><path d=\"M11.8 2.8L10.8 3.8 16.2 9.3 1 9.3 1 10.7 16.2 10.7 10.8 16.2 11.8 17.2 19 10z\"></path></svg>\\n          \\n    \\n    </a>\\n  </p>\\n\\n\\n          </div>\\n  </div>\\n\\n\\n                </div>\\n            \\n              \\n              <div class=\"ibm-grid-col-sm-4-4 ibm-grid-col-md-8-4 ibm-grid-col-lg-16-5 ibm-grid-col-seamless ibm-duo-module-10f__item ibm-duo-u--border--bottom-1 ibm-border-gray-30 ani-reveal ani-fadeInUp\">\\n                    \\n\\n \\n\\n\\n\\n\\n\\n\\n\\n\\n<div class=\"ibm-card ibm-duo-card ibm-duo-card-text ibm-card--noborder ibm-mb-0 ibm-duo-card--cta-yes\">\\n      <div class=\"ibm-grid-col-sm-4-3 ibm-grid-col-md-8-6 ibm-grid-col-lg-16-15 ibm-duo-card__title\">\\n      <h3 class=\"bx--type-expressive-heading-04 ibm-mb-3 ibm-pb-0 ibm-duo-card__heading ibm-textcolor-gray-90 ani-reveal ani-fadeInUp\">\\n            <span > Research from IBM Labs</span>\\n\\n      </h3>\\n    </div>\\n  \\n      <div class=\"ibm-grid-col-sm-4-4 ibm-grid-col-md-8-8 ibm-grid-col-lg-16-16 ibm-duo-card__asset\">\\n\\n      \\n              <figure class=\"ibm-card__image ibm-duo-card__image ibm-duo-u--ratio ibm-duo-u--ratio--sixteen-nine ibm-mb-3 ani-reveal ani-fadeInUp\">\\n                      \\n\\n        \\n  \\n  \\n  \\n\\n\\n\\n  <a  target=\"_self\" href=\"https://research.ibm.com/\">\\n    \\n\\n<img loading=\"lazy\" src=\"//1.cms.s81c.com/sites/default/files/2022-11-16/XLG%20-%20Inside%20IBM%20-%20Research%20Labs.jpg\" alt=\"Gloved hand rinsing tool in sink after research experiment\"\\n        class=\"\"\\n  />\\n  </a>\\n\\n                              </figure>\\n          </div>\\n  \\n      <div class=\"ibm-grid-col-sm-4-3 ibm-grid-col-md-8-6 ibm-grid-col-lg-16-15 ibm-duo-card__desc\">\\n      <div class=\"bx--type-body-long-02 ibm-mb-0 ibm-textcolor-gray-70 ani-reveal ani-fadeInUp ibm-duo-u--body\">\\n        <p>From chips to bots to outer space, go behind the curtain to see what’s next in science and technology.</p>\\n      </div>\\n    </div>\\n  \\n      <div class=\"ibm-grid-col-sm-4-3 ibm-grid-col-md-8-6 ibm-grid-col-lg-16-15 ibm-mt-3 ibm-duo-card__cta ibm-pb-0 ani-reveal ani-fadeInUp\">\\n              \\n\\n        \\n  \\n  \\n  \\n\\n\\n\\n  \\n  \\n  <p class=\\'ibm-mb-0 ibm-duo-u--pr-2 ibm-pb-1\\'>\\n    <a  target=\"_self\" href=\"https://research.ibm.com/\" class=\"ibm-duo-u--link-icon ibm-textcolor-blue-60 ibm-duo-u--link-icon--rtl\">\\n      <span>Read IBM research</span>\\n      \\n    \\n        \\n\\n                      <svg focusable=\"false\" class=\"ibm-duo-u--link-icon--arrow-right\" preserveAspectRatio=\"xMidYMid meet\" xmlns=\"http://www.w3.org/2000/svg\" fill=\"currentColor\" aria-hidden=\"true\" aria-label=\"View this link\" width=\"20\" height=\"20\" viewBox=\"0 0 20 20\" slot=\"icon\"><path d=\"M11.8 2.8L10.8 3.8 16.2 9.3 1 9.3 1 10.7 16.2 10.7 10.8 16.2 11.8 17.2 19 10z\"></path></svg>\\n          \\n    \\n    </a>\\n  </p>\\n\\n\\n          </div>\\n  </div>\\n\\n\\n                </div>\\n            \\n              \\n              <div class=\"ibm-grid-col-sm-4-4 ibm-grid-col-md-8-4 ibm-grid-col-lg-16-5 ibm-grid-col-seamless ibm-duo-module-10f__item ibm-duo-u--border--bottom-1 ibm-border-gray-30 ani-reveal ani-fadeInUp\">\\n                    \\n\\n \\n\\n\\n\\n\\n\\n\\n\\n\\n<div class=\"ibm-card ibm-duo-card ibm-duo-card-text ibm-card--noborder ibm-mb-0 ibm-duo-card--cta-yes\">\\n      <div class=\"ibm-grid-col-sm-4-3 ibm-grid-col-md-8-6 ibm-grid-col-lg-16-15 ibm-duo-card__title\">\\n      <h3 class=\"bx--type-expressive-heading-04 ibm-mb-3 ibm-pb-0 ibm-duo-card__heading ibm-textcolor-gray-90 ani-reveal ani-fadeInUp\">\\n            <span > Corporate Social Responsibility</span>\\n\\n      </h3>\\n    </div>\\n  \\n      <div class=\"ibm-grid-col-sm-4-4 ibm-grid-col-md-8-8 ibm-grid-col-lg-16-16 ibm-duo-card__asset\">\\n\\n      \\n              <figure class=\"ibm-card__image ibm-duo-card__image ibm-duo-u--ratio ibm-duo-u--ratio--sixteen-nine ibm-mb-3 ani-reveal ani-fadeInUp\">\\n                      \\n\\n        \\n  \\n  \\n  \\n\\n\\n\\n  <a  target=\"_self\" href=\"https://www.ibm.com/in-en/impact/responsibility\">\\n    \\n\\n<img loading=\"lazy\" src=\"//1.cms.s81c.com/sites/default/files/2022-11-16/XLG%20-%20Inside%20IBM%20-%20Corporate%20Social%20Responsibility.jpg\" alt=\"Hazy city skyline with skyscrapers \"\\n        class=\"\"\\n  />\\n  </a>\\n\\n                              </figure>\\n          </div>\\n  \\n      <div class=\"ibm-grid-col-sm-4-3 ibm-grid-col-md-8-6 ibm-grid-col-lg-16-15 ibm-duo-card__desc\">\\n      <div class=\"bx--type-body-long-02 ibm-mb-0 ibm-textcolor-gray-70 ani-reveal ani-fadeInUp ibm-duo-u--body\">\\n        <p>IBM aspires to make a lasting, positive impact on the world and the communities in which we work and live.</p>\\n      </div>\\n    </div>\\n  \\n      <div class=\"ibm-grid-col-sm-4-3 ibm-grid-col-md-8-6 ibm-grid-col-lg-16-15 ibm-mt-3 ibm-duo-card__cta ibm-pb-0 ani-reveal ani-fadeInUp\">\\n              \\n\\n        \\n  \\n  \\n  \\n\\n\\n\\n  \\n  \\n  <p class=\\'ibm-mb-0 ibm-duo-u--pr-2 ibm-pb-1\\'>\\n    <a  target=\"_self\" href=\"https://www.ibm.com/in-en/impact/responsibility\" class=\"ibm-duo-u--link-icon ibm-textcolor-blue-60 ibm-duo-u--link-icon--rtl\">\\n      <span>See IBM Impact</span>\\n      \\n    \\n        \\n\\n                      <svg focusable=\"false\" class=\"ibm-duo-u--link-icon--arrow-right\" preserveAspectRatio=\"xMidYMid meet\" xmlns=\"http://www.w3.org/2000/svg\" fill=\"currentColor\" aria-hidden=\"true\" aria-label=\"View this link\" width=\"20\" height=\"20\" viewBox=\"0 0 20 20\" slot=\"icon\"><path d=\"M11.8 2.8L10.8 3.8 16.2 9.3 1 9.3 1 10.7 16.2 10.7 10.8 16.2 11.8 17.2 19 10z\"></path></svg>\\n          \\n    \\n    </a>\\n  </p>\\n\\n\\n          </div>\\n  </div>\\n\\n\\n                </div>\\n                        <div class=\" ibm-duo-u--border--hide-last-1 ibm-background-white-core\"></div>\\n          </div>\\n        </div>\\n          </div>\\n  </section>\\n\\n\\n\\n\\n\\n\\n\\n<section  id=\"3171776\" class=\"ibm-duo-band ibm-duo-module-1f ibm-background-white-core\" data-bg-lazy-load>\\n  <div class=\"ibm-grid-container ibm-duo-u--relative\">\\n    <span class=\"ibm-duo-band--horizontal-line ibm-duo-band--horizontal-line--75 ibm-border-gray-30 ani-reveal ani-fadeInUp\"></span>\\n\\n    <div class=\"ibm-grid-col-sm-4-4 ibm-grid-col-md-8-6 ibm-grid-col-lg-16-4 ibm-duo-u--pt-4\">\\n      \\n\\n\\n\\n    </div>\\n\\n              \\n\\n\\n\\n\\n  \\n  \\n\\n<div class=\"ibm-duo-text-promo ibm-grid-col-sm-4-4 ibm-grid-col-md-8-6 ibm-grid-col-lg-16-8 ibm-duo-u--pt-md-4 ibm-duo-u--pb-8\">\\n  \\n  \\n      <div class=\"bx--type-expressive-heading-04 ibm-mb-0 ibm-duo-u--body ibm-textcolor-gray-70 ani-reveal ani-fadeInUp\">\\n      <p>We discover, design and implement technology that helps clients solve problems—and the world run better.</p>\\n    </div>\\n  \\n      <div class=\"ibm-mt-3 ibm-mb-0 ani-reveal ani-fadeInUp\">\\n              \\n\\n        \\n  \\n  \\n  \\n\\n\\n\\n  \\n  \\n  <p class=\\'ibm-mb-0 ibm-duo-u--pr-2 ibm-pb-1\\'>\\n    <a  target=\"_self\" href=\"/in-en/about\" class=\"ibm-duo-u--link-icon ibm-textcolor-blue-60 ibm-duo-u--link-icon--rtl\">\\n      <span>About IBM</span>\\n      \\n    \\n        \\n\\n                      <svg focusable=\"false\" class=\"ibm-duo-u--link-icon--arrow-right\" preserveAspectRatio=\"xMidYMid meet\" xmlns=\"http://www.w3.org/2000/svg\" fill=\"currentColor\" aria-hidden=\"true\" aria-label=\"View this link\" width=\"20\" height=\"20\" viewBox=\"0 0 20 20\" slot=\"icon\"><path d=\"M11.8 2.8L10.8 3.8 16.2 9.3 1 9.3 1 10.7 16.2 10.7 10.8 16.2 11.8 17.2 19 10z\"></path></svg>\\n          \\n    \\n    </a>\\n  </p>\\n\\n\\n              \\n\\n        \\n  \\n  \\n  \\n\\n\\n\\n  \\n  \\n  <p class=\\'ibm-mb-0 ibm-duo-u--pr-2 ibm-pb-1\\'>\\n    <a  target=\"_self\" href=\"https://www.ibm.com/subscribe?hpenab1=\" class=\"ibm-duo-u--link-icon ibm-textcolor-blue-60 ibm-duo-u--link-icon--rtl\">\\n      <span>Subscribe to IBM newsletters</span>\\n      \\n    \\n        \\n\\n                      <svg focusable=\"false\" class=\"ibm-duo-u--link-icon--arrow-right\" preserveAspectRatio=\"xMidYMid meet\" xmlns=\"http://www.w3.org/2000/svg\" fill=\"currentColor\" aria-hidden=\"true\" aria-label=\"View this link\" width=\"20\" height=\"20\" viewBox=\"0 0 20 20\" slot=\"icon\"><path d=\"M11.8 2.8L10.8 3.8 16.2 9.3 1 9.3 1 10.7 16.2 10.7 10.8 16.2 11.8 17.2 19 10z\"></path></svg>\\n          \\n    \\n    </a>\\n  </p>\\n\\n\\n          </div>\\n  </div>\\n\\n\\n        </div>\\n</section>\\n\\n          </div>\\n\\n        </div>       </div>     </div>   </div> </main>\\n\\n  </div>\\n\\n  </div>\\n\\n  </div>\\n    <footer role=\"contentinfo\" aria-label=\"IBM\">\\n      <div class=\"region region-footer\">\\n    \\n\\n<div id=\"ibm-footer-module\">\\n    <section role=\"region\" aria-label=\"Resources\">\\n\\n            <div class=\"ibm-columns\">\\n              </div>\\n      \\n        \\n    </section>\\n\\n</div>\\n\\n\\n<div id=\"ibm-footer\">\\n\\n    <div class=\"ibm-columns\">\\n      <div class=\"ibm-col-1-1\">\\n                  <div class=\"ibm-footer-corporate-links\">\\n            <ul>\\n                            <li id=\"ibm-truste-cp\">\\n                <a href=\"#\" onclick=\"truste.eu.clickListener();return false;\">Cookie preferences</a>\\n              </li>\\n            </ul>\\n          </div>\\n        \\n                </div>\\n    </div>\\n\\n</div>\\n\\n  </div>\\n\\n  </footer>\\n  \\n</div>\\n\\n  </div>\\n\\n    \\n    <script type=\"application/json\" data-drupal-selector=\"drupal-settings-json\">{\"path\":{\"baseUrl\":\"\\\\/\",\"scriptPath\":null,\"pathPrefix\":\"in-en\\\\/\",\"currentPath\":\"node\\\\/2598578\",\"currentPathIsAdmin\":false,\"isFront\":false,\"currentLanguage\":\"en-in\"},\"pluralDelimiter\":\"\\\\u0003\",\"suppressDeprecationErrors\":true,\"ajaxPageState\":{\"libraries\":\"hc_fractal\\\\/01-1a,hc_fractal\\\\/01-1f,hc_fractal\\\\/05-5e,hc_fractal\\\\/08-8a,hc_fractal\\\\/10-10f,hc_fractal\\\\/12-12a,hc_fractal\\\\/19-19f,hc_fractal\\\\/animations,hc_fractal\\\\/card-split-19f,hc_fractal\\\\/card-text,hc_fractal\\\\/dds-masthead,hc_fractal\\\\/dds-masthead-add-on,hc_fractal\\\\/dds-masthead-locales,hc_fractal\\\\/full-width-lead,hc_fractal\\\\/full-width-text,hc_fractal\\\\/heading,hc_fractal\\\\/image,hc_fractal\\\\/main_css,hc_fractal\\\\/main_js,hc_fractal\\\\/mobile_accordion,hc_fractal\\\\/picturefill_background,hc_fractal\\\\/slick,hc_fractal\\\\/tabs,hc_fractal\\\\/text,ibm_ckeditor\\\\/ibm_ckeditor_table_style,ibm_duo\\\\/ibm_duo,ibm_duo\\\\/ibm_duo_v19a,ibm_tmgmt_concurrency\\\\/ibm_tmgmt_concurrency_messaging,ibm_tmgmt_concurrency\\\\/ibm_tmgmt_concurrency_publisher,ibm_tmgmt_concurrency\\\\/ibm_tmgmt_concurrency_publisher_finish,metadata\\\\/focus_area,northstar\\\\/dyntabs,northstar\\\\/dyntabs-shame,northstar\\\\/font,northstar\\\\/grid-fluid,northstar\\\\/shame,northstar\\\\/stats,northstar\\\\/tables,system\\\\/base,tactic_codes\\\\/tactic_codes,widget_instance\\\\/widgets_initializer,widget_type\\\\/widget_type.product-explorer-main-offerings.197\",\"theme\":\"ibm_duo\",\"theme_token\":\"jXWHfQYnhdkeIeonHzS0plNQGvqKAsbLTTTIH7BOgTU\"},\"ajaxTrustedUrl\":[],\"ibm_tmgmt_concurrency_publisher\":{\"nid\":\"2598578\",\"language\":\"en-in\",\"submit_button\":\"#edit-submit\",\"form\":\"#content-moderation-entity-moderation-form\",\"route\":\"entity.node.canonical\"},\"widget_instance\":{\"widgets\":{\"widget-instance--product-explorer-main-offerings--791\":{\"instanceId\":\"widget-instance--product-explorer-main-offerings--791\",\"renderFunctionName\":\"renderProductExplorerMainOfferings\",\"language\":\"en\",\"widgetJsSrc\":\"https:\\\\/\\\\/hybrid-cloud-widgets-production.s3.us.cloud-object-storage.appdomain.cloud\\\\/widgets\\\\/product-explorer-main-offerings\\\\/js\\\\/main.js\"}}},\"navManagement\":{\"globalMastheadPlatformUrl\":null},\"user\":{\"uid\":0,\"permissionsHash\":\"0c916a5a867aea2de154565fb888afbc951fd70dccc6e1340a5947a9a777e51e\"}}</script>\\n<script src=\"//1.cms.s81c.com/sites/default/files/js/js_5WtFJp6MiNlwSak9qySmBiqn8ZXB6ds4DOshAHu7S5g.js\"></script>\\n<script src=\"//www.ibm.com/common/digitaladvisor/cm-app/latest/cm-app.min.js\" defer></script>\\n<script src=\"//1.www.s81c.com/common/v18/drupal/js/tables.js\" defer></script>\\n<script src=\"//1.cms.s81c.com/modules/contrib/hc_fractal/dist/js/interactions.js?v=v2.1.1\" defer></script>\\n<script src=\"//1.cms.s81c.com/modules/contrib/hc_fractal/dist/js/background-image-lazy-load.js?v=v2.1.1\" defer></script>\\n<script src=\"//1.cms.s81c.com/modules/contrib/hc_fractal/dist/js/v18-widgets.js?v=v2.1.1\" defer></script>\\n<script src=\"//1.www.s81c.com/common/js/tactic.js\" defer></script>\\n<script src=\"//1.www.s81c.com/common/js/tacticbindlinks.js\" defer></script>\\n<script src=\"//1.cms.s81c.com/sites/default/files/js/js_5islUEwzybKhegOvwDsOy1GdlV_kWA9hegsq8YE5z8c.js\"></script>\\n<script src=\"//1.cms.s81c.com/modules/contrib/hc_fractal/dist/js/slick-sliders.js?v=v2.1.1\" defer></script>\\n<script src=\"//1.cms.s81c.com/modules/contrib/hc_fractal/dist/js/plugins/picturefill-background.js?v=v2.1.1\" defer></script>\\n<script src=\"//1.cms.s81c.com/modules/contrib/hc_fractal/dist/js/mobile-accordion-item.js?v=v2.1.1\" defer></script>\\n<script src=\"//1.cms.s81c.com/modules/contrib/hc_fractal/dist/js/tabs.js?v=v2.1.1\" defer></script>\\n<script src=\"//1.cms.s81c.com/sites/default/files/js/js_KNIVC2Lzjyr94kWASBwmNff0_0lPKu1bHoCPmLOhlVw.js\"></script>\\n<script src=\"//cdn.jsdelivr.net/npm/react@17/umd/react.production.min.js\" defer></script>\\n<script src=\"//cdn.jsdelivr.net/npm/react-dom@17/umd/react-dom.production.min.js\" defer></script>\\n<script src=\"//cdn.jsdelivr.net/npm/react-intl@5/dist/react-intl.min.js\" defer></script>\\n<script src=\"//hybrid-cloud-widgets-production.s3.us.cloud-object-storage.appdomain.cloud/widgets/product-explorer-main-offerings/js/main.eb61da5f.js\" defer></script>\\n\\n      <script type=\"text/javascript\"  src=\"/R82o6e/ihTnT/JcuC0/obOl/acSYfbkwhcEN5z/OBoxAQ/ATReYnZw/BFA\"></script><link rel=\"stylesheet\" type=\"text/css\"  href=\"/_sec/cp_challenge/sec-4-0.css\">\\n                                        <script  src=\"/_sec/cp_challenge/sec-cpt-4-0.js\" async defer></script>\\n                                        <div id=\"sec-overlay\" style=\"display:none;\">\\n                                        <div id=\"sec-container\">\\n                                        </div>\\n                                      </div></body>\\n</html>\\n'"
      ]
     },
     "execution_count": 75,
     "metadata": {},
     "output_type": "execute_result"
    }
   ],
   "source": [
    "data  = requests.get(url).text \n",
    "data"
   ]
  },
  {
   "cell_type": "markdown",
   "metadata": {},
   "source": [
    "We create a <code>BeautifulSoup</code> object using the <code>BeautifulSoup</code> constructor\n"
   ]
  },
  {
   "cell_type": "code",
   "execution_count": 76,
   "metadata": {},
   "outputs": [],
   "source": [
    "soup = BeautifulSoup(data,\"html5lib\")  # create a soup object using the variable 'data'"
   ]
  },
  {
   "cell_type": "markdown",
   "metadata": {},
   "source": [
    "Scrape all links\n"
   ]
  },
  {
   "cell_type": "code",
   "execution_count": 79,
   "metadata": {},
   "outputs": [
    {
     "name": "stdout",
     "output_type": "stream",
     "text": [
      "https://www.ibm.com/events/reg/flow/ibm/yazt81mb/landing/page/landing?utm_medium=Web&utm_id=homepage&lnk=hpenls1\n",
      "https://www.ibm.com/thought-leadership/institute-business-value/en-us/report/ceo-generative-ai/application-modernization?lnk=hpenca1\n",
      "//mediacenter.ibm.com/id/1_t4tolges\n",
      "//mediacenter.ibm.com/id/1_t4tolges\n",
      "//mediacenter.ibm.com/id/1_t4tolges\n",
      "https://www.ibm.com/data-management?lnk=hpencm1\n",
      "//mediacenter.ibm.com/id/1_ohfv4i6v\n",
      "//mediacenter.ibm.com/id/1_ohfv4i6v\n",
      "//mediacenter.ibm.com/id/1_ohfv4i6v\n",
      "https://www.ibm.com/in-en/sustainability?lnk=hpencm2\n",
      "//mediacenter.ibm.com/id/1_4f1czavh\n",
      "//mediacenter.ibm.com/id/1_4f1czavh\n",
      "//mediacenter.ibm.com/id/1_4f1czavh\n",
      "https://www.ibm.com/consulting/?lnk=hpencm3\n",
      "https://www.ibm.com/case-studies/enento-group?lnk=hpencs1\n",
      "https://www.ibm.com/products/instana?lnk=hpencs2\n",
      "#tab_3171780\n",
      "#tab_3171784\n",
      "#tab_3171788\n",
      "#tab_3171792\n",
      "#tab_3171796\n",
      "#tab_3171800\n",
      "https://www.ibm.com/consulting/?lnk=hpenco1\n",
      "https://www.ibm.com/consulting/strategy/?lnk=hpenco2\n",
      "https://www.ibm.com/consulting/ibmix?lnk=flathl\n",
      "https://www.ibm.com/consulting/technology/?lnk=hpenco4\n",
      "https://www.ibm.com/services/operations-consulting?lnk=flathl\n",
      "/strategic-partnerships?lnk=hpenco6\n",
      "http://www.ibm.com/watsonx?lnk=hpenf2\n",
      "https://www.ibm.com/careers/in-en/?lnk=flatitem\n",
      "https://www.ibm.com/careers/in-en/?lnk=flatitem\n",
      "https://research.ibm.com/\n",
      "https://research.ibm.com/\n",
      "https://www.ibm.com/in-en/impact/responsibility\n",
      "https://www.ibm.com/in-en/impact/responsibility\n",
      "/in-en/about\n",
      "https://www.ibm.com/subscribe?hpenab1=\n",
      "#\n"
     ]
    }
   ],
   "source": [
    "for link in soup.find_all('a',href=True):  # in html anchor/link is represented by the tag <a>\n",
    "\n",
    "    print(link['href'])\n"
   ]
  },
  {
   "cell_type": "markdown",
   "metadata": {},
   "source": [
    "## Scrape  all images  Tags\n"
   ]
  },
  {
   "cell_type": "code",
   "execution_count": 80,
   "metadata": {},
   "outputs": [
    {
     "name": "stdout",
     "output_type": "stream",
     "text": [
      "<img alt=\"Financial worker at desk with six computer screens\" class=\"\" loading=\"lazy\" src=\"//1.cms.s81c.com/sites/default/files/2023-04-05/CS_The_Modernize_Banking_Question_V1_30_mobile-frame-04-30_drupal.jpg\"/>\n",
      "//1.cms.s81c.com/sites/default/files/2023-04-05/CS_The_Modernize_Banking_Question_V1_30_mobile-frame-04-30_drupal.jpg\n",
      "<img alt=\"view of the sky between skyscrapers\" class=\"\" loading=\"lazy\" src=\"//1.cms.s81c.com/sites/default/files/2023-04-05/CS_The_Sustainability_Building_Question_30_mobile-07-00_drupal.jpg\"/>\n",
      "//1.cms.s81c.com/sites/default/files/2023-04-05/CS_The_Sustainability_Building_Question_30_mobile-07-00_drupal.jpg\n",
      "<img alt=\"Close-up of golf ball on a green course\" class=\"\" loading=\"lazy\" src=\"//1.cms.s81c.com/sites/default/files/2023-04-05/CS_the_transform_masters_question_30_mobile_frame00_drupal_0.jpg\"/>\n",
      "//1.cms.s81c.com/sites/default/files/2023-04-05/CS_the_transform_masters_question_30_mobile_frame00_drupal_0.jpg\n",
      "<img alt=\"business meeting\" class=\"\" loading=\"lazy\" src=\"//1.cms.s81c.com/sites/default/files/2023-05-07/pi-1906698.xl_.jpg\"/>\n",
      "//1.cms.s81c.com/sites/default/files/2023-05-07/pi-1906698.xl_.jpg\n",
      "<img alt=\"Team members at work\" class=\"\" loading=\"lazy\" src=\"//1.cms.s81c.com/sites/default/files/2023-05-07/ebsf02532.xl_.jpg\"/>\n",
      "//1.cms.s81c.com/sites/default/files/2023-05-07/ebsf02532.xl_.jpg\n",
      "<img alt=\"Woman working on laptop\" class=\"\" loading=\"lazy\" src=\"//1.cms.s81c.com/sites/default/files/2023-05-07/_l7a6081.xl_.jpg\"/>\n",
      "//1.cms.s81c.com/sites/default/files/2023-05-07/_l7a6081.xl_.jpg\n",
      "<img alt=\"Cloud developer with red sweater coding at desk\" class=\"\" loading=\"lazy\" src=\"//1.cms.s81c.com/sites/default/files/2022-11-16/XLG%20-%20IBM%20Consulting%20-%20Technology.jpg\"/>\n",
      "//1.cms.s81c.com/sites/default/files/2022-11-16/XLG%20-%20IBM%20Consulting%20-%20Technology.jpg\n",
      "<img alt=\"Aerial view of automated conveyer belt and machinery at work\" class=\"\" loading=\"lazy\" src=\"//1.cms.s81c.com/sites/default/files/2022-11-16/XLG%20-%20IBM%20Consulting%20-%20Operations.jpg\"/>\n",
      "//1.cms.s81c.com/sites/default/files/2022-11-16/XLG%20-%20IBM%20Consulting%20-%20Operations.jpg\n",
      "<img alt=\"Overhead view of partners collaborating on design with laptops and coffee\" class=\"\" loading=\"lazy\" src=\"//1.cms.s81c.com/sites/default/files/2022-11-16/XLG%20-%20IBM%20Consulting%20-%20Partners.jpg\"/>\n",
      "//1.cms.s81c.com/sites/default/files/2022-11-16/XLG%20-%20IBM%20Consulting%20-%20Partners.jpg\n",
      "<img alt=\"IBM employee on campus\" class=\"\" loading=\"lazy\" src=\"//1.cms.s81c.com/sites/default/files/2022-11-16/XLG%20-%20Inside%20IBM%20-%20IBM%20Careers.jpg\"/>\n",
      "//1.cms.s81c.com/sites/default/files/2022-11-16/XLG%20-%20Inside%20IBM%20-%20IBM%20Careers.jpg\n",
      "<img alt=\"Gloved hand rinsing tool in sink after research experiment\" class=\"\" loading=\"lazy\" src=\"//1.cms.s81c.com/sites/default/files/2022-11-16/XLG%20-%20Inside%20IBM%20-%20Research%20Labs.jpg\"/>\n",
      "//1.cms.s81c.com/sites/default/files/2022-11-16/XLG%20-%20Inside%20IBM%20-%20Research%20Labs.jpg\n",
      "<img alt=\"Hazy city skyline with skyscrapers \" class=\"\" loading=\"lazy\" src=\"//1.cms.s81c.com/sites/default/files/2022-11-16/XLG%20-%20Inside%20IBM%20-%20Corporate%20Social%20Responsibility.jpg\"/>\n",
      "//1.cms.s81c.com/sites/default/files/2022-11-16/XLG%20-%20Inside%20IBM%20-%20Corporate%20Social%20Responsibility.jpg\n"
     ]
    }
   ],
   "source": [
    "for link in soup.find_all('img'):# in html image is represented by the tag <img>\n",
    "    print(link)\n",
    "    print(link.get('src'))"
   ]
  },
  {
   "cell_type": "markdown",
   "metadata": {},
   "source": [
    "### Scrape data from HTML tables\n"
   ]
  },
  {
   "cell_type": "code",
   "execution_count": 81,
   "metadata": {},
   "outputs": [],
   "source": [
    "#The below url contains an html table with data about colors and color codes.\n",
    "url = \"https://cf-courses-data.s3.us.cloud-object-storage.appdomain.cloud/IBM-DA0321EN-SkillsNetwork/labs/datasets/HTMLColorCodes.html\""
   ]
  },
  {
   "cell_type": "markdown",
   "metadata": {},
   "source": [
    "Before proceeding to scrape a web site, you need to examine the contents and the way data is organized on the website. Open the above url in your browser and check how many rows and columns there are in the color table.\n"
   ]
  },
  {
   "cell_type": "code",
   "execution_count": 82,
   "metadata": {},
   "outputs": [],
   "source": [
    "# get the contents of the webpage in text format and store in a variable called data\n",
    "data  = requests.get(url).text"
   ]
  },
  {
   "cell_type": "code",
   "execution_count": 83,
   "metadata": {},
   "outputs": [],
   "source": [
    "soup = BeautifulSoup(data,\"html5lib\")"
   ]
  },
  {
   "cell_type": "code",
   "execution_count": 84,
   "metadata": {},
   "outputs": [],
   "source": [
    "#find a html table in the web page\n",
    "table = soup.find('table') # in html table is represented by the tag <table>"
   ]
  },
  {
   "cell_type": "code",
   "execution_count": 85,
   "metadata": {},
   "outputs": [
    {
     "name": "stdout",
     "output_type": "stream",
     "text": [
      "Color Name--->Hex Code#RRGGBB\n",
      "lightsalmon--->#FFA07A\n",
      "salmon--->#FA8072\n",
      "darksalmon--->#E9967A\n",
      "lightcoral--->#F08080\n",
      "coral--->#FF7F50\n",
      "tomato--->#FF6347\n",
      "orangered--->#FF4500\n",
      "gold--->#FFD700\n",
      "orange--->#FFA500\n",
      "darkorange--->#FF8C00\n",
      "lightyellow--->#FFFFE0\n",
      "lemonchiffon--->#FFFACD\n",
      "papayawhip--->#FFEFD5\n",
      "moccasin--->#FFE4B5\n",
      "peachpuff--->#FFDAB9\n",
      "palegoldenrod--->#EEE8AA\n",
      "khaki--->#F0E68C\n",
      "darkkhaki--->#BDB76B\n",
      "yellow--->#FFFF00\n",
      "lawngreen--->#7CFC00\n",
      "chartreuse--->#7FFF00\n",
      "limegreen--->#32CD32\n",
      "lime--->#00FF00\n",
      "forestgreen--->#228B22\n",
      "green--->#008000\n",
      "powderblue--->#B0E0E6\n",
      "lightblue--->#ADD8E6\n",
      "lightskyblue--->#87CEFA\n",
      "skyblue--->#87CEEB\n",
      "deepskyblue--->#00BFFF\n",
      "lightsteelblue--->#B0C4DE\n",
      "dodgerblue--->#1E90FF\n"
     ]
    }
   ],
   "source": [
    "#Get all rows from the table\n",
    "for row in table.find_all('tr'): # in html table row is represented by the tag <tr>\n",
    "    # Get all columns in each row.\n",
    "    cols = row.find_all('td') # in html a column is represented by the tag <td>\n",
    "    color_name = cols[2].string # store the value in column 3 as color_name\n",
    "    color_code = cols[3].text # store the value in column 4 as color_code\n",
    "    print(\"{}--->{}\".format(color_name,color_code))"
   ]
  },
  {
   "cell_type": "markdown",
   "metadata": {},
   "source": [
    "## Authors\n"
   ]
  },
  {
   "cell_type": "markdown",
   "metadata": {},
   "source": [
    "Ramesh Sannareddy\n"
   ]
  },
  {
   "cell_type": "markdown",
   "metadata": {},
   "source": [
    "### Other Contributors\n"
   ]
  },
  {
   "cell_type": "markdown",
   "metadata": {},
   "source": [
    "Rav Ahuja\n"
   ]
  },
  {
   "cell_type": "markdown",
   "metadata": {},
   "source": [
    "## Change Log\n"
   ]
  },
  {
   "cell_type": "markdown",
   "metadata": {},
   "source": [
    "| Date (YYYY-MM-DD) | Version | Changed By            |          Change Description         |\n",
    "| ----------------- | ------- | ----------------------| ----------------------------------- |\n",
    "| 2023-06-11        | 1.0     | Akansha Yadav         |   Spell check                       |\n",
    "| 2020-10-17        | 0.1     | Joseph Santarcangelo  |  Created initial version of the lab |\n"
   ]
  },
  {
   "cell_type": "markdown",
   "metadata": {},
   "source": [
    "Copyright © 2020 IBM Corporation. This notebook and its source code are released under the terms of the [MIT License](https://cognitiveclass.ai/mit-license/?utm_medium=Exinfluencer&utm_source=Exinfluencer&utm_content=000026UJ&utm_term=10006555&utm_id=NA-SkillsNetwork-Channel-SkillsNetworkCoursesIBMDeveloperSkillsNetworkPY0101ENSkillsNetwork19487395-2021-01-01).\n"
   ]
  }
 ],
 "metadata": {
  "kernelspec": {
   "display_name": "Python",
   "language": "python",
   "name": "conda-env-python-py"
  },
  "language_info": {
   "codemirror_mode": {
    "name": "ipython",
    "version": 3
   },
   "file_extension": ".py",
   "mimetype": "text/x-python",
   "name": "python",
   "nbconvert_exporter": "python",
   "pygments_lexer": "ipython3",
   "version": "3.7.12"
  }
 },
 "nbformat": 4,
 "nbformat_minor": 4
}
